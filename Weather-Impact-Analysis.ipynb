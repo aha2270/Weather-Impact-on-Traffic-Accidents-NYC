{
 "cells": [
  {
   "cell_type": "markdown",
   "id": "e8624b6b",
   "metadata": {},
   "source": [
    "# Weather Impact on Traffic Accidents"
   ]
  },
  {
   "cell_type": "markdown",
   "id": "0e9c20ec",
   "metadata": {},
   "source": [
    "## Problem Statement\n",
    "For this project, I aim to determine if inclement weather causes more frequent and severe accidents compared to clear and sunny weather. Understanding this relationship can inform public safety campaigns, resource allocation for emergency services, and urban planning initiatives aimed at improving road safety during poor weather conditions. \n"
   ]
  },
  {
   "cell_type": "markdown",
   "id": "a54e2cc5",
   "metadata": {},
   "source": [
    "## Step 1: Gather Data\n",
    "\n",
    "### Dataset 1:\n",
    "\n",
    "I will be utilizing the \"Motor Vehicle Collisions - Crashes\" dataset because it provides comprehensive historical data on motor vehicle accidents in New York City. Its detailed records, including crash dates and locations, are essential for correlating accident occurrences with specific weather conditions. This dataset's breadth allows for an in-depth analysis of both the frequency and severity of collisions across the city.\n",
    "\n",
    "Dataset Type: CSV\n",
    "\n",
    "Data Wrangling Method: The data is gathered by programmatically downloading files from the NYC Open Data Portal\n",
    "\n",
    "Dataset variables that will be used:\n",
    "\n",
    " - **CRASH DATE**: Date the collision occured\n",
    " - **CRASH TIME**: Time the collision occured\n",
    " - **LATITUDE**: Latitude coordinate of the collision\n",
    " - **LONGITUDE**: Longitude coordinate of the collision\n",
    " - **NUMBER OF PERSONS INJURED**: Amount of total injuries in collision\n",
    " - **NUMBER OF PERSONS KILLED**: Amount of total fatalities in collision\n",
    " - **COLLISION_ID**: Unique identifier for the collision\n"
   ]
  },
  {
   "cell_type": "code",
   "execution_count": 85,
   "id": "0f1682df",
   "metadata": {},
   "outputs": [],
   "source": [
    "# Imports required for workbook\n",
    "import pandas as pd\n",
    "import numpy as np\n",
    "import requests\n",
    "from datetime import datetime, timedelta\n",
    "import matplotlib.pyplot as plt\n",
    "import seaborn as sns\n"
   ]
  },
  {
   "cell_type": "code",
   "execution_count": 86,
   "id": "85fff291",
   "metadata": {},
   "outputs": [
    {
     "name": "stdout",
     "output_type": "stream",
     "text": [
      "Reading the first 100,000 records from https://data.cityofnewyork.us/api/views/h9gi-nx95/rows.csv?accessType=DOWNLOAD...\n",
      "Successfully created a subset and saved it to motor_vehicle_collisions_subset.csv\n",
      "The DataFrame now contains 100000 rows.\n"
     ]
    }
   ],
   "source": [
    "# Load in first dataset\n",
    "\n",
    "# URL for the CSV version of the dataset\n",
    "csv_url = \"https://data.cityofnewyork.us/api/views/h9gi-nx95/rows.csv?accessType=DOWNLOAD\"\n",
    "\n",
    "# Defines a filename to save the dataset to\n",
    "file_name = \"motor_vehicle_collisions_subset.csv\"\n",
    "\n",
    "try:\n",
    "    # Use pandas to read a limited number of rows directly from the URL.\n",
    "    # The `nrows` parameter is key to grabbing only a small chunk of the data,\n",
    "    # avoiding the large file size issue.\n",
    "    print(f\"Reading the first 100,000 records from {csv_url}...\")\n",
    "    motor_accident_df = pd.read_csv(csv_url, nrows=100000)\n",
    "    \n",
    "    # Save the smaller DataFrame to a new CSV file\n",
    "    motor_accident_df.to_csv(file_name, index=False)\n",
    "    print(f\"Successfully created a subset and saved it to {file_name}\")\n",
    "\n",
    "    # Display the number of rows to confirm the result\n",
    "    print(f\"The DataFrame now contains {len(motor_accident_df)} rows.\")\n",
    "\n",
    "except requests.exceptions.RequestException as e:\n",
    "    print(f\"Error accessing the data URL: {e}\")\n",
    "except Exception as e:\n",
    "    print(f\"An error occurred: {e}\")\n"
   ]
  },
  {
   "cell_type": "markdown",
   "id": "8de43f19",
   "metadata": {},
   "source": [
    "### Dataset 2:\n",
    "\n",
    "I will be utilizing the Open-Meteo Historical Weather API dataset for its comprehensive and freely accessible historical weather data, which is curcial for identifying correlations with past motor vehicle collisions. It contains detailed daily weather variables (like temperature, precipitation, and wind) for specific geographical coordinates and extensive date ranges. This will allow for a robust investigation into how different weather conditions might influence accident frequency and severity in New York City.\n",
    "\n",
    "Dataset Type: JSON\n",
    "\n",
    "Data Wrangling Method: The data is gathered by utilizing the Open-Meteo Historical Weather API\n",
    "\n",
    "Dataset variables that will be used:\n",
    "\n",
    "*    **time:** Date the weather data was recorded\n",
    "*    **temperature_2m_max:** Maximum daily air temperature 2 meters above ground\n",
    "*    **temperature_2m_min:** Minimum daily air temperature 2 meters above ground\n",
    "*    **precipitation_sum:** Total daily sum of precipitation\n",
    "*    **rain_sum:** Total daily sum of rain only\n",
    "*    **snowfall_sum:** Total daily sum of snow only\n",
    "*    **precipitation_hours:** Number of hours with any type of precipitation on that day\n",
    "*    **weather_code:** Numerical code that summarizes the overall daily weather condition\n",
    "*    **wind_speed_10m_max:** Maximum daily wind speed 10 meters above ground\n",
    "*    **wind_gusts_10m_max:** Maximum daily wind gust (sudden, brief increase in wind speed) at 10 meters above ground\n",
    "*    **wind_direction_10m_dominant:** Dominant daily wind direction 10 meters above ground\n"
   ]
  },
  {
   "cell_type": "markdown",
   "id": "d1f81a0c",
   "metadata": {},
   "source": [
    "> The first thing I do is create a function called **get_open_meteo_historical_weather** that takes in latitude, longitude, start_date, end_date, and daily_variables which is set to **None** initially to make the parameter optional and allow the function to define a fresh default list of variables if the caller doesnt provide the function a list of desired daily_variables"
   ]
  },
  {
   "cell_type": "code",
   "execution_count": 87,
   "id": "2523b97f",
   "metadata": {},
   "outputs": [],
   "source": [
    "def get_open_meteo_historical_weather(latitude, longitude, start_date, end_date, daily_variables=None):\n",
    "\n",
    "    base_url = \"https://archive-api.open-meteo.com/v1/archive\"\n",
    "\n",
    "    # If no daily_variable is provided by caller, the function sets this to grab useful weather data\n",
    "    if daily_variables is None:\n",
    "        daily_variables = [\n",
    "            \"temperature_2m_max\",\n",
    "            \"temperature_2m_min\",\n",
    "            \"precipitation_sum\",\n",
    "            \"rain_sum\",\n",
    "            \"snowfall_sum\",\n",
    "            \"precipitation_hours\",\n",
    "            \"weather_code\",\n",
    "            \"wind_speed_10m_max\",\n",
    "            \"wind_gusts_10m_max\",\n",
    "            \"wind_direction_10m_dominant\"\n",
    "        ]\n",
    "\n",
    "    # Sets parameters to be used using the information entered into function\n",
    "    params = {\n",
    "        \"latitude\": latitude,\n",
    "        \"longitude\": longitude,\n",
    "        \"start_date\": start_date,\n",
    "        \"end_date\": end_date,\n",
    "        \"daily\": \",\".join(daily_variables),\n",
    "        \"timezone\": \"America/New_York\" # Set timezone for accurate day boundaries\n",
    "    }   \n",
    "\n",
    "    print(f\"Fetching weather data for {start_date} to {end_date} at Lat: {latitude}, Lon: {longitude}\")\n",
    "\n",
    "    try: \n",
    "\n",
    "        # Sends a request to the url and stores the information retrieved in response variable\n",
    "        response = requests.get(base_url, params=params)\n",
    "\n",
    "        # Raises an HTTPError for bad responses (4XX or 5XX Codes)\n",
    "        response.raise_for_status()\n",
    "        data = response.json()\n",
    "\n",
    "        # Checks to see if the API response contains the key 'daily'\n",
    "        if \"daily\" in data:\n",
    "\n",
    "            # Extracts value associated with the 'daily' key\n",
    "            daily_data = data['daily']\n",
    "\n",
    "            # Converts daily_data dictionary inro a Pandas DataFrame\n",
    "            weather_data_df = pd.DataFrame(daily_data)\n",
    "\n",
    "            return weather_data_df\n",
    "        \n",
    "        else:\n",
    "\n",
    "            # Print response for debugging if the 'daily' ket is not found\n",
    "            print(\"No 'daily' data found in the API response. Check parameters or date range\")\n",
    "            print(\"API Response:\", data)\n",
    "            return None\n",
    "        \n",
    "    except requests.exceptions.RequestException as e:\n",
    "        print(f\"Error fetching data from Open-Meteo API: {e}\")\n",
    "        return None\n",
    "    except Exception as e:\n",
    "        print(f\"An unexpected error occured: {e}\")\n",
    "        return None\n"
   ]
  },
  {
   "cell_type": "code",
   "execution_count": 88,
   "id": "c7689870",
   "metadata": {},
   "outputs": [
    {
     "name": "stdout",
     "output_type": "stream",
     "text": [
      "Fetching weather data for 2012-07-01 to 2025-05-28 at Lat: 40.7831, Lon: -73.9712\n",
      "NYC historical weather data has been successfully retrieved\n"
     ]
    }
   ],
   "source": [
    "# Load in dataset 2\n",
    "# Coordinates for Central Park, NYC (approximate)\n",
    "nyc_latitude = 40.7831\n",
    "nyc_longitude = -73.9712\n",
    "\n",
    "# Sets a desired data range to compare to motor collision dataset\n",
    "start_date = \"2012-07-01\"\n",
    "end_date = \"2025-05-28\"\n",
    "\n",
    "# Fetch the data using the created function\n",
    "nyc_weather_df = get_open_meteo_historical_weather(\n",
    "    nyc_latitude,\n",
    "    nyc_longitude,\n",
    "    start_date,\n",
    "    end_date\n",
    ")\n",
    "\n",
    "# Prints messsage stating if data was retrieved or not and stores file in CSV file once obtained\n",
    "if nyc_weather_df is not None:\n",
    "    print(\"NYC historical weather data has been successfully retrieved\")\n",
    "\n",
    "    # Defines the gile name for weather data CSV\n",
    "    weather_file_name = \"nyc_historical_weather.csv\"\n",
    "\n",
    "    # Converts file to CSV\n",
    "    nyc_weather_df.to_csv(weather_file_name, index=True)\n",
    "else:\n",
    "    print(\"Failed to retrieve NYC historcal weather data.\")\n"
   ]
  },
  {
   "cell_type": "markdown",
   "id": "9d2a45b0",
   "metadata": {},
   "source": [
    "## Step 2: Assess Data"
   ]
  },
  {
   "cell_type": "markdown",
   "id": "43ad8d3f",
   "metadata": {},
   "source": [
    "> I first perform basic data inspection using the .info() and .head() funcitons to get an idea of what the data looks like in my datasets."
   ]
  },
  {
   "cell_type": "code",
   "execution_count": 89,
   "id": "99753b01",
   "metadata": {},
   "outputs": [
    {
     "name": "stdout",
     "output_type": "stream",
     "text": [
      "<class 'pandas.core.frame.DataFrame'>\n",
      "RangeIndex: 100000 entries, 0 to 99999\n",
      "Data columns (total 29 columns):\n",
      " #   Column                         Non-Null Count   Dtype  \n",
      "---  ------                         --------------   -----  \n",
      " 0   CRASH DATE                     100000 non-null  object \n",
      " 1   CRASH TIME                     100000 non-null  object \n",
      " 2   BOROUGH                        65613 non-null   object \n",
      " 3   ZIP CODE                       65602 non-null   float64\n",
      " 4   LATITUDE                       92065 non-null   float64\n",
      " 5   LONGITUDE                      92065 non-null   float64\n",
      " 6   LOCATION                       92065 non-null   object \n",
      " 7   ON STREET NAME                 72867 non-null   object \n",
      " 8   CROSS STREET NAME              46360 non-null   object \n",
      " 9   OFF STREET NAME                27132 non-null   object \n",
      " 10  NUMBER OF PERSONS INJURED      100000 non-null  int64  \n",
      " 11  NUMBER OF PERSONS KILLED       100000 non-null  int64  \n",
      " 12  NUMBER OF PEDESTRIANS INJURED  100000 non-null  int64  \n",
      " 13  NUMBER OF PEDESTRIANS KILLED   100000 non-null  int64  \n",
      " 14  NUMBER OF CYCLIST INJURED      100000 non-null  int64  \n",
      " 15  NUMBER OF CYCLIST KILLED       100000 non-null  int64  \n",
      " 16  NUMBER OF MOTORIST INJURED     100000 non-null  int64  \n",
      " 17  NUMBER OF MOTORIST KILLED      100000 non-null  int64  \n",
      " 18  CONTRIBUTING FACTOR VEHICLE 1  99497 non-null   object \n",
      " 19  CONTRIBUTING FACTOR VEHICLE 2  77384 non-null   object \n",
      " 20  CONTRIBUTING FACTOR VEHICLE 3  10299 non-null   object \n",
      " 21  CONTRIBUTING FACTOR VEHICLE 4  2780 non-null    object \n",
      " 22  CONTRIBUTING FACTOR VEHICLE 5  847 non-null     object \n",
      " 23  COLLISION_ID                   100000 non-null  int64  \n",
      " 24  VEHICLE TYPE CODE 1            98805 non-null   object \n",
      " 25  VEHICLE TYPE CODE 2            66705 non-null   object \n",
      " 26  VEHICLE TYPE CODE 3            9543 non-null    object \n",
      " 27  VEHICLE TYPE CODE 4            2623 non-null    object \n",
      " 28  VEHICLE TYPE CODE 5            816 non-null     object \n",
      "dtypes: float64(3), int64(9), object(17)\n",
      "memory usage: 22.1+ MB\n"
     ]
    }
   ],
   "source": [
    "motor_accident_df.info()"
   ]
  },
  {
   "cell_type": "code",
   "execution_count": 90,
   "id": "efa763d2",
   "metadata": {},
   "outputs": [
    {
     "data": {
      "text/html": [
       "<div>\n",
       "<style scoped>\n",
       "    .dataframe tbody tr th:only-of-type {\n",
       "        vertical-align: middle;\n",
       "    }\n",
       "\n",
       "    .dataframe tbody tr th {\n",
       "        vertical-align: top;\n",
       "    }\n",
       "\n",
       "    .dataframe thead th {\n",
       "        text-align: right;\n",
       "    }\n",
       "</style>\n",
       "<table border=\"1\" class=\"dataframe\">\n",
       "  <thead>\n",
       "    <tr style=\"text-align: right;\">\n",
       "      <th></th>\n",
       "      <th>CRASH DATE</th>\n",
       "      <th>CRASH TIME</th>\n",
       "      <th>BOROUGH</th>\n",
       "      <th>ZIP CODE</th>\n",
       "      <th>LATITUDE</th>\n",
       "      <th>LONGITUDE</th>\n",
       "      <th>LOCATION</th>\n",
       "      <th>ON STREET NAME</th>\n",
       "      <th>CROSS STREET NAME</th>\n",
       "      <th>OFF STREET NAME</th>\n",
       "      <th>...</th>\n",
       "      <th>CONTRIBUTING FACTOR VEHICLE 2</th>\n",
       "      <th>CONTRIBUTING FACTOR VEHICLE 3</th>\n",
       "      <th>CONTRIBUTING FACTOR VEHICLE 4</th>\n",
       "      <th>CONTRIBUTING FACTOR VEHICLE 5</th>\n",
       "      <th>COLLISION_ID</th>\n",
       "      <th>VEHICLE TYPE CODE 1</th>\n",
       "      <th>VEHICLE TYPE CODE 2</th>\n",
       "      <th>VEHICLE TYPE CODE 3</th>\n",
       "      <th>VEHICLE TYPE CODE 4</th>\n",
       "      <th>VEHICLE TYPE CODE 5</th>\n",
       "    </tr>\n",
       "  </thead>\n",
       "  <tbody>\n",
       "    <tr>\n",
       "      <th>0</th>\n",
       "      <td>09/11/2021</td>\n",
       "      <td>2:39</td>\n",
       "      <td>NaN</td>\n",
       "      <td>NaN</td>\n",
       "      <td>NaN</td>\n",
       "      <td>NaN</td>\n",
       "      <td>NaN</td>\n",
       "      <td>WHITESTONE EXPRESSWAY</td>\n",
       "      <td>20 AVENUE</td>\n",
       "      <td>NaN</td>\n",
       "      <td>...</td>\n",
       "      <td>Unspecified</td>\n",
       "      <td>NaN</td>\n",
       "      <td>NaN</td>\n",
       "      <td>NaN</td>\n",
       "      <td>4455765</td>\n",
       "      <td>Sedan</td>\n",
       "      <td>Sedan</td>\n",
       "      <td>NaN</td>\n",
       "      <td>NaN</td>\n",
       "      <td>NaN</td>\n",
       "    </tr>\n",
       "    <tr>\n",
       "      <th>1</th>\n",
       "      <td>03/26/2022</td>\n",
       "      <td>11:45</td>\n",
       "      <td>NaN</td>\n",
       "      <td>NaN</td>\n",
       "      <td>NaN</td>\n",
       "      <td>NaN</td>\n",
       "      <td>NaN</td>\n",
       "      <td>QUEENSBORO BRIDGE UPPER</td>\n",
       "      <td>NaN</td>\n",
       "      <td>NaN</td>\n",
       "      <td>...</td>\n",
       "      <td>NaN</td>\n",
       "      <td>NaN</td>\n",
       "      <td>NaN</td>\n",
       "      <td>NaN</td>\n",
       "      <td>4513547</td>\n",
       "      <td>Sedan</td>\n",
       "      <td>NaN</td>\n",
       "      <td>NaN</td>\n",
       "      <td>NaN</td>\n",
       "      <td>NaN</td>\n",
       "    </tr>\n",
       "    <tr>\n",
       "      <th>2</th>\n",
       "      <td>11/01/2023</td>\n",
       "      <td>1:29</td>\n",
       "      <td>BROOKLYN</td>\n",
       "      <td>11230.0</td>\n",
       "      <td>40.62179</td>\n",
       "      <td>-73.970024</td>\n",
       "      <td>(40.62179, -73.970024)</td>\n",
       "      <td>OCEAN PARKWAY</td>\n",
       "      <td>AVENUE K</td>\n",
       "      <td>NaN</td>\n",
       "      <td>...</td>\n",
       "      <td>Unspecified</td>\n",
       "      <td>Unspecified</td>\n",
       "      <td>NaN</td>\n",
       "      <td>NaN</td>\n",
       "      <td>4675373</td>\n",
       "      <td>Moped</td>\n",
       "      <td>Sedan</td>\n",
       "      <td>Sedan</td>\n",
       "      <td>NaN</td>\n",
       "      <td>NaN</td>\n",
       "    </tr>\n",
       "    <tr>\n",
       "      <th>3</th>\n",
       "      <td>06/29/2022</td>\n",
       "      <td>6:55</td>\n",
       "      <td>NaN</td>\n",
       "      <td>NaN</td>\n",
       "      <td>NaN</td>\n",
       "      <td>NaN</td>\n",
       "      <td>NaN</td>\n",
       "      <td>THROGS NECK BRIDGE</td>\n",
       "      <td>NaN</td>\n",
       "      <td>NaN</td>\n",
       "      <td>...</td>\n",
       "      <td>Unspecified</td>\n",
       "      <td>NaN</td>\n",
       "      <td>NaN</td>\n",
       "      <td>NaN</td>\n",
       "      <td>4541903</td>\n",
       "      <td>Sedan</td>\n",
       "      <td>Pick-up Truck</td>\n",
       "      <td>NaN</td>\n",
       "      <td>NaN</td>\n",
       "      <td>NaN</td>\n",
       "    </tr>\n",
       "    <tr>\n",
       "      <th>4</th>\n",
       "      <td>09/21/2022</td>\n",
       "      <td>13:21</td>\n",
       "      <td>NaN</td>\n",
       "      <td>NaN</td>\n",
       "      <td>NaN</td>\n",
       "      <td>NaN</td>\n",
       "      <td>NaN</td>\n",
       "      <td>BROOKLYN BRIDGE</td>\n",
       "      <td>NaN</td>\n",
       "      <td>NaN</td>\n",
       "      <td>...</td>\n",
       "      <td>Unspecified</td>\n",
       "      <td>NaN</td>\n",
       "      <td>NaN</td>\n",
       "      <td>NaN</td>\n",
       "      <td>4566131</td>\n",
       "      <td>Station Wagon/Sport Utility Vehicle</td>\n",
       "      <td>NaN</td>\n",
       "      <td>NaN</td>\n",
       "      <td>NaN</td>\n",
       "      <td>NaN</td>\n",
       "    </tr>\n",
       "  </tbody>\n",
       "</table>\n",
       "<p>5 rows × 29 columns</p>\n",
       "</div>"
      ],
      "text/plain": [
       "   CRASH DATE CRASH TIME   BOROUGH  ZIP CODE  LATITUDE  LONGITUDE  \\\n",
       "0  09/11/2021       2:39       NaN       NaN       NaN        NaN   \n",
       "1  03/26/2022      11:45       NaN       NaN       NaN        NaN   \n",
       "2  11/01/2023       1:29  BROOKLYN   11230.0  40.62179 -73.970024   \n",
       "3  06/29/2022       6:55       NaN       NaN       NaN        NaN   \n",
       "4  09/21/2022      13:21       NaN       NaN       NaN        NaN   \n",
       "\n",
       "                 LOCATION           ON STREET NAME CROSS STREET NAME  \\\n",
       "0                     NaN    WHITESTONE EXPRESSWAY         20 AVENUE   \n",
       "1                     NaN  QUEENSBORO BRIDGE UPPER               NaN   \n",
       "2  (40.62179, -73.970024)            OCEAN PARKWAY          AVENUE K   \n",
       "3                     NaN       THROGS NECK BRIDGE               NaN   \n",
       "4                     NaN          BROOKLYN BRIDGE               NaN   \n",
       "\n",
       "  OFF STREET NAME  ...  CONTRIBUTING FACTOR VEHICLE 2  \\\n",
       "0             NaN  ...                    Unspecified   \n",
       "1             NaN  ...                            NaN   \n",
       "2             NaN  ...                    Unspecified   \n",
       "3             NaN  ...                    Unspecified   \n",
       "4             NaN  ...                    Unspecified   \n",
       "\n",
       "   CONTRIBUTING FACTOR VEHICLE 3  CONTRIBUTING FACTOR VEHICLE 4  \\\n",
       "0                            NaN                            NaN   \n",
       "1                            NaN                            NaN   \n",
       "2                    Unspecified                            NaN   \n",
       "3                            NaN                            NaN   \n",
       "4                            NaN                            NaN   \n",
       "\n",
       "   CONTRIBUTING FACTOR VEHICLE 5  COLLISION_ID  \\\n",
       "0                            NaN       4455765   \n",
       "1                            NaN       4513547   \n",
       "2                            NaN       4675373   \n",
       "3                            NaN       4541903   \n",
       "4                            NaN       4566131   \n",
       "\n",
       "                   VEHICLE TYPE CODE 1  VEHICLE TYPE CODE 2  \\\n",
       "0                                Sedan                Sedan   \n",
       "1                                Sedan                  NaN   \n",
       "2                                Moped                Sedan   \n",
       "3                                Sedan        Pick-up Truck   \n",
       "4  Station Wagon/Sport Utility Vehicle                  NaN   \n",
       "\n",
       "   VEHICLE TYPE CODE 3 VEHICLE TYPE CODE 4 VEHICLE TYPE CODE 5  \n",
       "0                  NaN                 NaN                 NaN  \n",
       "1                  NaN                 NaN                 NaN  \n",
       "2                Sedan                 NaN                 NaN  \n",
       "3                  NaN                 NaN                 NaN  \n",
       "4                  NaN                 NaN                 NaN  \n",
       "\n",
       "[5 rows x 29 columns]"
      ]
     },
     "execution_count": 90,
     "metadata": {},
     "output_type": "execute_result"
    }
   ],
   "source": [
    "motor_accident_df.head()"
   ]
  },
  {
   "cell_type": "code",
   "execution_count": 91,
   "id": "038c90fa",
   "metadata": {},
   "outputs": [
    {
     "name": "stdout",
     "output_type": "stream",
     "text": [
      "<class 'pandas.core.frame.DataFrame'>\n",
      "RangeIndex: 4715 entries, 0 to 4714\n",
      "Data columns (total 11 columns):\n",
      " #   Column                       Non-Null Count  Dtype  \n",
      "---  ------                       --------------  -----  \n",
      " 0   time                         4715 non-null   object \n",
      " 1   temperature_2m_max           4715 non-null   float64\n",
      " 2   temperature_2m_min           4715 non-null   float64\n",
      " 3   precipitation_sum            4715 non-null   float64\n",
      " 4   rain_sum                     4715 non-null   float64\n",
      " 5   snowfall_sum                 4715 non-null   float64\n",
      " 6   precipitation_hours          4715 non-null   float64\n",
      " 7   weather_code                 4715 non-null   int64  \n",
      " 8   wind_speed_10m_max           4715 non-null   float64\n",
      " 9   wind_gusts_10m_max           4715 non-null   float64\n",
      " 10  wind_direction_10m_dominant  4715 non-null   int64  \n",
      "dtypes: float64(8), int64(2), object(1)\n",
      "memory usage: 405.3+ KB\n"
     ]
    }
   ],
   "source": [
    "nyc_weather_df.info()"
   ]
  },
  {
   "cell_type": "code",
   "execution_count": 92,
   "id": "aa0809b6",
   "metadata": {},
   "outputs": [
    {
     "data": {
      "text/html": [
       "<div>\n",
       "<style scoped>\n",
       "    .dataframe tbody tr th:only-of-type {\n",
       "        vertical-align: middle;\n",
       "    }\n",
       "\n",
       "    .dataframe tbody tr th {\n",
       "        vertical-align: top;\n",
       "    }\n",
       "\n",
       "    .dataframe thead th {\n",
       "        text-align: right;\n",
       "    }\n",
       "</style>\n",
       "<table border=\"1\" class=\"dataframe\">\n",
       "  <thead>\n",
       "    <tr style=\"text-align: right;\">\n",
       "      <th></th>\n",
       "      <th>time</th>\n",
       "      <th>temperature_2m_max</th>\n",
       "      <th>temperature_2m_min</th>\n",
       "      <th>precipitation_sum</th>\n",
       "      <th>rain_sum</th>\n",
       "      <th>snowfall_sum</th>\n",
       "      <th>precipitation_hours</th>\n",
       "      <th>weather_code</th>\n",
       "      <th>wind_speed_10m_max</th>\n",
       "      <th>wind_gusts_10m_max</th>\n",
       "      <th>wind_direction_10m_dominant</th>\n",
       "    </tr>\n",
       "  </thead>\n",
       "  <tbody>\n",
       "    <tr>\n",
       "      <th>0</th>\n",
       "      <td>2012-07-01</td>\n",
       "      <td>34.8</td>\n",
       "      <td>20.1</td>\n",
       "      <td>1.7</td>\n",
       "      <td>1.7</td>\n",
       "      <td>0.0</td>\n",
       "      <td>1.0</td>\n",
       "      <td>61</td>\n",
       "      <td>17.0</td>\n",
       "      <td>37.1</td>\n",
       "      <td>268</td>\n",
       "    </tr>\n",
       "    <tr>\n",
       "      <th>1</th>\n",
       "      <td>2012-07-02</td>\n",
       "      <td>31.0</td>\n",
       "      <td>19.7</td>\n",
       "      <td>0.0</td>\n",
       "      <td>0.0</td>\n",
       "      <td>0.0</td>\n",
       "      <td>0.0</td>\n",
       "      <td>2</td>\n",
       "      <td>14.0</td>\n",
       "      <td>26.3</td>\n",
       "      <td>321</td>\n",
       "    </tr>\n",
       "    <tr>\n",
       "      <th>2</th>\n",
       "      <td>2012-07-03</td>\n",
       "      <td>31.9</td>\n",
       "      <td>18.6</td>\n",
       "      <td>0.0</td>\n",
       "      <td>0.0</td>\n",
       "      <td>0.0</td>\n",
       "      <td>0.0</td>\n",
       "      <td>3</td>\n",
       "      <td>12.1</td>\n",
       "      <td>25.6</td>\n",
       "      <td>269</td>\n",
       "    </tr>\n",
       "    <tr>\n",
       "      <th>3</th>\n",
       "      <td>2012-07-04</td>\n",
       "      <td>33.7</td>\n",
       "      <td>20.5</td>\n",
       "      <td>3.9</td>\n",
       "      <td>3.9</td>\n",
       "      <td>0.0</td>\n",
       "      <td>4.0</td>\n",
       "      <td>61</td>\n",
       "      <td>10.9</td>\n",
       "      <td>26.3</td>\n",
       "      <td>251</td>\n",
       "    </tr>\n",
       "    <tr>\n",
       "      <th>4</th>\n",
       "      <td>2012-07-05</td>\n",
       "      <td>34.9</td>\n",
       "      <td>24.3</td>\n",
       "      <td>0.0</td>\n",
       "      <td>0.0</td>\n",
       "      <td>0.0</td>\n",
       "      <td>0.0</td>\n",
       "      <td>3</td>\n",
       "      <td>14.4</td>\n",
       "      <td>24.1</td>\n",
       "      <td>321</td>\n",
       "    </tr>\n",
       "  </tbody>\n",
       "</table>\n",
       "</div>"
      ],
      "text/plain": [
       "         time  temperature_2m_max  temperature_2m_min  precipitation_sum  \\\n",
       "0  2012-07-01                34.8                20.1                1.7   \n",
       "1  2012-07-02                31.0                19.7                0.0   \n",
       "2  2012-07-03                31.9                18.6                0.0   \n",
       "3  2012-07-04                33.7                20.5                3.9   \n",
       "4  2012-07-05                34.9                24.3                0.0   \n",
       "\n",
       "   rain_sum  snowfall_sum  precipitation_hours  weather_code  \\\n",
       "0       1.7           0.0                  1.0            61   \n",
       "1       0.0           0.0                  0.0             2   \n",
       "2       0.0           0.0                  0.0             3   \n",
       "3       3.9           0.0                  4.0            61   \n",
       "4       0.0           0.0                  0.0             3   \n",
       "\n",
       "   wind_speed_10m_max  wind_gusts_10m_max  wind_direction_10m_dominant  \n",
       "0                17.0                37.1                          268  \n",
       "1                14.0                26.3                          321  \n",
       "2                12.1                25.6                          269  \n",
       "3                10.9                26.3                          251  \n",
       "4                14.4                24.1                          321  "
      ]
     },
     "execution_count": 92,
     "metadata": {},
     "output_type": "execute_result"
    }
   ],
   "source": [
    "nyc_weather_df.head()"
   ]
  },
  {
   "cell_type": "markdown",
   "id": "9b9c28ed",
   "metadata": {},
   "source": [
    "### Quality Issue 1: Mixed Data Types In Motor Accident DataFrame "
   ]
  },
  {
   "cell_type": "markdown",
   "id": "df2d5593",
   "metadata": {},
   "source": [
    "The first quality issue that I noticed is that there are some mislabled data types that are in the motor_accident_df. The CRASH DATE and CRASH TYPE are of type object when they should have been assigned as type datetime. Another issue is that both NUMBER OF PERSONS INJURED and NUMBER OF PERSONS KILLED are both assigned as type float when they should have been assigned as type int since it is impossible in injur or kill half of a person for example. "
   ]
  },
  {
   "cell_type": "code",
   "execution_count": 93,
   "id": "03400117",
   "metadata": {},
   "outputs": [],
   "source": [
    "# Inspecting Motor Accidents DataFrame Programmatically\n",
    "# Function that sees if there are multiple types in a specific column\n",
    "def check_mixed_types(series):\n",
    "\n",
    "    # Filter out all the nulls to type check what is stored\n",
    "    non_nan_values = series.dropna()\n",
    "\n",
    "    # Gets the type of each non_NaN value\n",
    "    unique_types = set(non_nan_values.apply(type))\n",
    "\n",
    "    return len(unique_types) > 1, unique_types"
   ]
  },
  {
   "cell_type": "code",
   "execution_count": 94,
   "id": "9d618925",
   "metadata": {},
   "outputs": [
    {
     "name": "stdout",
     "output_type": "stream",
     "text": [
      "Column 'CRASH DATE': Does Not Have Mixed Data Types. Type Found: {<class 'str'>}\n",
      "Column 'NUMBER OF PERSONS INJURED': Does Not Have Mixed Data Types. Type Found: {<class 'int'>}\n",
      "Column 'NUMBER OF PERSONS KILLED': Does Not Have Mixed Data Types. Type Found: {<class 'int'>}\n"
     ]
    }
   ],
   "source": [
    "# List of columns to check data types on\n",
    "column_names = ['CRASH DATE', 'NUMBER OF PERSONS INJURED', 'NUMBER OF PERSONS KILLED']\n",
    "\n",
    "#Loop created to run the function on all columns in the above list\n",
    "for i in column_names:\n",
    "\n",
    "    # Runs the function using the columns specified in column_names\n",
    "    is_mixed, types_found = check_mixed_types(motor_accident_df[i])\n",
    "\n",
    "    # Prints if the column contains mixed type or not\n",
    "    if is_mixed:\n",
    "        print(f\"Column '{i}': Has Mixed Data Types. Types Found: {types_found}\")\n",
    "    else:\n",
    "        print(f\"Column '{i}': Does Not Have Mixed Data Types. Type Found: {types_found}\")"
   ]
  },
  {
   "cell_type": "markdown",
   "id": "49415d60",
   "metadata": {},
   "source": [
    "> Based on the function that was run above, we are able to see that the columns that are going to be used for analysis do not have the issue of having multiple types assigned to the row. This shows that all the datatypes in each column are consistent. Knowing this, I can now safely address the fact that they are stored as the wrong type during the cleaning of my datasets.\n"
   ]
  },
  {
   "cell_type": "markdown",
   "id": "f58d6616",
   "metadata": {},
   "source": [
    "### Quality Issue 2: Missing Values in Motor Accident DataFrame"
   ]
  },
  {
   "cell_type": "markdown",
   "id": "9d4fe37d",
   "metadata": {},
   "source": [
    "The next quality issue that needs to be addressed is the problem of NaN values in various columns in the Motor Accident DataFrame. Many of these columns will not be needed for analysis, so I will first be addressing what columns are going to be needed, inspect the amount of null values in said columns, and decide if there is enough filled in information to be able to gain insights using the column. If the column will not be used for analysis, it will be dropped when performing cleaning"
   ]
  },
  {
   "cell_type": "markdown",
   "id": "4f0aaf92",
   "metadata": {},
   "source": [
    "> The first thing I will do is create a heatmap of the null values in the dataset. This will provide me with a visual of what data is filled in in the dataset."
   ]
  },
  {
   "cell_type": "code",
   "execution_count": 95,
   "id": "7f7e3aaa",
   "metadata": {},
   "outputs": [
    {
     "data": {
      "image/png": "[encoded data removed]",
      "text/plain": [
       "<Figure size 1500x800 with 1 Axes>"
      ]
     },
     "metadata": {},
     "output_type": "display_data"
    }
   ],
   "source": [
    "# Visualizing null values in dataset\n",
    "# Creating a boolean dataframe that indicates missing values\n",
    "missing_df = motor_accident_df.isnull()\n",
    "\n",
    "# Creates a heatmap using the missing_df created\n",
    "plt.figure(figsize=(15, 8))\n",
    "sns.heatmap(missing_df, cbar=False, cmap=\"viridis\") # 'viridis' shows missing in different color\n",
    "plt.title(\"Heatmap of Missing Values in Motor Accident Dataset\")\n",
    "plt.xlabel(\"Columns\")\n",
    "plt.ylabel(\"Rows\")\n",
    "plt.show()"
   ]
  },
  {
   "cell_type": "markdown",
   "id": "d8be238e",
   "metadata": {},
   "source": [
    "Looking at the heatmap created above, we are able to determine that there are some unusable rows due to the sheer amount of missing values in their fields. Luckily, the columns that I plan on using for analysis seem to have enough information filled in to be utilized for creating visuals and performing analysis. Seeing that none of the columns with missing values that deal with locations can be imputed, it would be wise to drop any entries that have null values in those entries if they are going to be required for analysis, such as latitude and longitude of the accident."
   ]
  },
  {
   "cell_type": "code",
   "execution_count": 96,
   "id": "091805c0",
   "metadata": {},
   "outputs": [
    {
     "data": {
      "text/plain": [
       "CRASH DATE                           0\n",
       "CRASH TIME                           0\n",
       "BOROUGH                          34387\n",
       "ZIP CODE                         34398\n",
       "LATITUDE                          7935\n",
       "LONGITUDE                         7935\n",
       "LOCATION                          7935\n",
       "ON STREET NAME                   27133\n",
       "CROSS STREET NAME                53640\n",
       "OFF STREET NAME                  72868\n",
       "NUMBER OF PERSONS INJURED            0\n",
       "NUMBER OF PERSONS KILLED             0\n",
       "NUMBER OF PEDESTRIANS INJURED        0\n",
       "NUMBER OF PEDESTRIANS KILLED         0\n",
       "NUMBER OF CYCLIST INJURED            0\n",
       "NUMBER OF CYCLIST KILLED             0\n",
       "NUMBER OF MOTORIST INJURED           0\n",
       "NUMBER OF MOTORIST KILLED            0\n",
       "CONTRIBUTING FACTOR VEHICLE 1      503\n",
       "CONTRIBUTING FACTOR VEHICLE 2    22616\n",
       "CONTRIBUTING FACTOR VEHICLE 3    89701\n",
       "CONTRIBUTING FACTOR VEHICLE 4    97220\n",
       "CONTRIBUTING FACTOR VEHICLE 5    99153\n",
       "COLLISION_ID                         0\n",
       "VEHICLE TYPE CODE 1               1195\n",
       "VEHICLE TYPE CODE 2              33295\n",
       "VEHICLE TYPE CODE 3              90457\n",
       "VEHICLE TYPE CODE 4              97377\n",
       "VEHICLE TYPE CODE 5              99184\n",
       "dtype: int64"
      ]
     },
     "execution_count": 96,
     "metadata": {},
     "output_type": "execute_result"
    }
   ],
   "source": [
    "motor_accident_df.isnull().sum()"
   ]
  },
  {
   "cell_type": "markdown",
   "id": "b75540c2",
   "metadata": {},
   "source": [
    "### Tidiness Issue 1: Crash Date and Time Separation"
   ]
  },
  {
   "cell_type": "markdown",
   "id": "cd912405",
   "metadata": {},
   "source": [
    "The first tidiness issue that I noticed that will need to be addressed is the fact that the CRASH DATE and CRASH TIME columns have been separated into two seperate object columns rather than being stored into a single datatime type. This will be addressed, as there are many usefule datetime functions that can be utilized"
   ]
  },
  {
   "cell_type": "code",
   "execution_count": 97,
   "id": "eca71063",
   "metadata": {},
   "outputs": [
    {
     "data": {
      "text/html": [
       "<div>\n",
       "<style scoped>\n",
       "    .dataframe tbody tr th:only-of-type {\n",
       "        vertical-align: middle;\n",
       "    }\n",
       "\n",
       "    .dataframe tbody tr th {\n",
       "        vertical-align: top;\n",
       "    }\n",
       "\n",
       "    .dataframe thead th {\n",
       "        text-align: right;\n",
       "    }\n",
       "</style>\n",
       "<table border=\"1\" class=\"dataframe\">\n",
       "  <thead>\n",
       "    <tr style=\"text-align: right;\">\n",
       "      <th></th>\n",
       "      <th>CRASH DATE</th>\n",
       "      <th>CRASH TIME</th>\n",
       "    </tr>\n",
       "  </thead>\n",
       "  <tbody>\n",
       "    <tr>\n",
       "      <th>0</th>\n",
       "      <td>09/11/2021</td>\n",
       "      <td>2:39</td>\n",
       "    </tr>\n",
       "    <tr>\n",
       "      <th>1</th>\n",
       "      <td>03/26/2022</td>\n",
       "      <td>11:45</td>\n",
       "    </tr>\n",
       "    <tr>\n",
       "      <th>2</th>\n",
       "      <td>11/01/2023</td>\n",
       "      <td>1:29</td>\n",
       "    </tr>\n",
       "    <tr>\n",
       "      <th>3</th>\n",
       "      <td>06/29/2022</td>\n",
       "      <td>6:55</td>\n",
       "    </tr>\n",
       "    <tr>\n",
       "      <th>4</th>\n",
       "      <td>09/21/2022</td>\n",
       "      <td>13:21</td>\n",
       "    </tr>\n",
       "  </tbody>\n",
       "</table>\n",
       "</div>"
      ],
      "text/plain": [
       "   CRASH DATE CRASH TIME\n",
       "0  09/11/2021       2:39\n",
       "1  03/26/2022      11:45\n",
       "2  11/01/2023       1:29\n",
       "3  06/29/2022       6:55\n",
       "4  09/21/2022      13:21"
      ]
     },
     "execution_count": 97,
     "metadata": {},
     "output_type": "execute_result"
    }
   ],
   "source": [
    "# Visually showing the CRASH DATE and CRASH TIME are seperate columns rather than one\n",
    "motor_accident_df[['CRASH DATE', 'CRASH TIME']].head()"
   ]
  },
  {
   "cell_type": "markdown",
   "id": "1dbd3000",
   "metadata": {},
   "source": [
    "### Tidiness Issue 2: Unneeded LOCATION Column"
   ]
  },
  {
   "cell_type": "markdown",
   "id": "8ec173d8",
   "metadata": {},
   "source": [
    "The next tidiness issue that will be addressed is that fact that there is a column for latitude, longitude, and location. The location column is just the latitude and longitude values stored together in an object, sot it will not be as usable as the latitude and longitude columns which are stored as float types"
   ]
  },
  {
   "cell_type": "code",
   "execution_count": 98,
   "id": "981258aa",
   "metadata": {},
   "outputs": [
    {
     "name": "stdout",
     "output_type": "stream",
     "text": [
      "        LATITUDE  LONGITUDE                 LOCATION\n",
      "48808  40.603430 -74.001854   (40.60343, -74.001854)\n",
      "18036  40.666840 -73.899414   (40.66684, -73.899414)\n",
      "68502  40.759346 -73.919810   (40.759346, -73.91981)\n",
      "27509  40.853504 -73.894424  (40.853504, -73.894424)\n",
      "22202  40.657276 -73.914345  (40.657276, -73.914345)\n"
     ]
    }
   ],
   "source": [
    "# Inspecting the dataframe visually\n",
    "print(motor_accident_df[['LATITUDE', 'LONGITUDE', 'LOCATION']].sample(5))"
   ]
  },
  {
   "cell_type": "code",
   "execution_count": 99,
   "id": "d876d143",
   "metadata": {},
   "outputs": [
    {
     "name": "stdout",
     "output_type": "stream",
     "text": [
      "object\n"
     ]
    }
   ],
   "source": [
    "print(motor_accident_df['LOCATION'].dtype)"
   ]
  },
  {
   "cell_type": "markdown",
   "id": "8a21fb5e",
   "metadata": {},
   "source": [
    "> As shown above, we can see that the LOCATION column of the dataset is just the LATITUDE and LONGITUDE columns brought together and stored as an object"
   ]
  },
  {
   "cell_type": "markdown",
   "id": "154aeb87",
   "metadata": {},
   "source": [
    "## Step 3: Clean Data"
   ]
  },
  {
   "cell_type": "markdown",
   "id": "bb9da2e1",
   "metadata": {},
   "source": [
    "Most of the cleaning will be performed on the motor_accidtnes_df since the nyc_weather_df ahd all the information required pulled at the start. Upon inspection of the nyc_weather_df, there appers to be no null values that need to be addressed for analysis."
   ]
  },
  {
   "cell_type": "code",
   "execution_count": 100,
   "id": "31cfd00a",
   "metadata": {},
   "outputs": [],
   "source": [
    "# Copy of the motor_accident_df and nyc_weather_df dataframes\n",
    "motor_accident_cleaned = motor_accident_df.copy()\n",
    "nyc_weather_cleaned = nyc_weather_df.copy()"
   ]
  },
  {
   "cell_type": "markdown",
   "id": "97b02d75",
   "metadata": {},
   "source": [
    "### Quality Issue 1: Mixed Data Types in Motor Accident DataFrame"
   ]
  },
  {
   "cell_type": "code",
   "execution_count": 101,
   "id": "2fff484c",
   "metadata": {},
   "outputs": [],
   "source": [
    "# Converts the CRASH DATE to a datetime data type\n",
    "motor_accident_cleaned['CRASH DATE'] = pd.to_datetime(motor_accident_cleaned['CRASH DATE'], errors='coerce')#'coerce' will turn unparseable dates int NaT (Not a Time)\n",
    "\n",
    "# Converts NUMBER OF PERSONS INJURED and NUMBER OF PERSONS KILLED to integers\n",
    "# First, fill NaN values with 0, as NaN likely means no injuries/fatalities\n",
    "motor_accident_cleaned['NUMBER OF PERSONS INJURED'] = motor_accident_cleaned['NUMBER OF PERSONS INJURED'].fillna(0).astype('int64')\n",
    "motor_accident_cleaned['NUMBER OF PERSONS KILLED'] = motor_accident_cleaned['NUMBER OF PERSONS KILLED'].fillna(0).astype('int64')"
   ]
  },
  {
   "cell_type": "code",
   "execution_count": 102,
   "id": "c2eede49",
   "metadata": {},
   "outputs": [
    {
     "name": "stdout",
     "output_type": "stream",
     "text": [
      "<class 'pandas.core.frame.DataFrame'>\n",
      "RangeIndex: 100000 entries, 0 to 99999\n",
      "Data columns (total 29 columns):\n",
      " #   Column                         Non-Null Count   Dtype         \n",
      "---  ------                         --------------   -----         \n",
      " 0   CRASH DATE                     100000 non-null  datetime64[ns]\n",
      " 1   CRASH TIME                     100000 non-null  object        \n",
      " 2   BOROUGH                        65613 non-null   object        \n",
      " 3   ZIP CODE                       65602 non-null   float64       \n",
      " 4   LATITUDE                       92065 non-null   float64       \n",
      " 5   LONGITUDE                      92065 non-null   float64       \n",
      " 6   LOCATION                       92065 non-null   object        \n",
      " 7   ON STREET NAME                 72867 non-null   object        \n",
      " 8   CROSS STREET NAME              46360 non-null   object        \n",
      " 9   OFF STREET NAME                27132 non-null   object        \n",
      " 10  NUMBER OF PERSONS INJURED      100000 non-null  int64         \n",
      " 11  NUMBER OF PERSONS KILLED       100000 non-null  int64         \n",
      " 12  NUMBER OF PEDESTRIANS INJURED  100000 non-null  int64         \n",
      " 13  NUMBER OF PEDESTRIANS KILLED   100000 non-null  int64         \n",
      " 14  NUMBER OF CYCLIST INJURED      100000 non-null  int64         \n",
      " 15  NUMBER OF CYCLIST KILLED       100000 non-null  int64         \n",
      " 16  NUMBER OF MOTORIST INJURED     100000 non-null  int64         \n",
      " 17  NUMBER OF MOTORIST KILLED      100000 non-null  int64         \n",
      " 18  CONTRIBUTING FACTOR VEHICLE 1  99497 non-null   object        \n",
      " 19  CONTRIBUTING FACTOR VEHICLE 2  77384 non-null   object        \n",
      " 20  CONTRIBUTING FACTOR VEHICLE 3  10299 non-null   object        \n",
      " 21  CONTRIBUTING FACTOR VEHICLE 4  2780 non-null    object        \n",
      " 22  CONTRIBUTING FACTOR VEHICLE 5  847 non-null     object        \n",
      " 23  COLLISION_ID                   100000 non-null  int64         \n",
      " 24  VEHICLE TYPE CODE 1            98805 non-null   object        \n",
      " 25  VEHICLE TYPE CODE 2            66705 non-null   object        \n",
      " 26  VEHICLE TYPE CODE 3            9543 non-null    object        \n",
      " 27  VEHICLE TYPE CODE 4            2623 non-null    object        \n",
      " 28  VEHICLE TYPE CODE 5            816 non-null     object        \n",
      "dtypes: datetime64[ns](1), float64(3), int64(9), object(16)\n",
      "memory usage: 22.1+ MB\n"
     ]
    }
   ],
   "source": [
    "motor_accident_cleaned.info()"
   ]
  },
  {
   "cell_type": "code",
   "execution_count": 103,
   "id": "d8212081",
   "metadata": {},
   "outputs": [],
   "source": [
    "# Assertions created to validate the datatypes were change to the correct type\n",
    "assert motor_accident_cleaned['CRASH DATE'].dtype == 'datetime64[ns]'\n",
    "assert motor_accident_cleaned['NUMBER OF PERSONS INJURED'].dtype == 'int64'\n",
    "assert motor_accident_cleaned['NUMBER OF PERSONS KILLED'].dtype == 'int64'"
   ]
  },
  {
   "cell_type": "markdown",
   "id": "3564b632",
   "metadata": {},
   "source": [
    "### Quality Issue 2: Missing Values in Motor Accident DataFrame"
   ]
  },
  {
   "cell_type": "code",
   "execution_count": 104,
   "id": "607e281b",
   "metadata": {},
   "outputs": [],
   "source": [
    "# Created a list of columns to fill NaN entries to 0\n",
    "injury_fatality_columns = ['NUMBER OF PERSONS INJURED', 'NUMBER OF PERSONS KILLED']\n",
    "\n",
    "# Created a for loop to loop through list provided above and change all of the NaN values to 0\n",
    "for col in injury_fatality_columns:\n",
    "    motor_accident_cleaned[col] = pd.to_numeric(motor_accident_cleaned[col], errors='coerce').fillna(0).astype(int)"
   ]
  },
  {
   "cell_type": "markdown",
   "id": "ac717515",
   "metadata": {},
   "source": [
    "> I decided to handle the code above this way so that if analysis in the future required any of the other number of people injured/killed columns that are provided, they could be added to the list of columns and the loop would fill all na values in all listed columns"
   ]
  },
  {
   "cell_type": "code",
   "execution_count": 105,
   "id": "374ec219",
   "metadata": {},
   "outputs": [],
   "source": [
    "# Drops an entry if either the latitude or longitude is missing\n",
    "motor_accident_cleaned.dropna(subset=['LATITUDE', 'LONGITUDE'], how='any', inplace=True)"
   ]
  },
  {
   "cell_type": "markdown",
   "id": "c414327e",
   "metadata": {},
   "source": [
    "> As I cannot get a pinpoint location of an accident using just the latitude or the longitude, I dropped all entries in the dataset that had one or the other missing since it wouldn't be usable for analysis"
   ]
  },
  {
   "cell_type": "code",
   "execution_count": 106,
   "id": "7cccbd24",
   "metadata": {},
   "outputs": [],
   "source": [
    "# Validated cleaning process worked using assert statements\n",
    "assert motor_accident_cleaned['NUMBER OF PERSONS INJURED'].isnull().sum() == 0\n",
    "assert motor_accident_cleaned['NUMBER OF PERSONS KILLED'].isnull().sum() == 0\n",
    "assert motor_accident_cleaned['LATITUDE'].isnull().sum() == 0\n",
    "assert motor_accident_cleaned['LONGITUDE'].isnull().sum() == 0"
   ]
  },
  {
   "cell_type": "markdown",
   "id": "635e3a0a",
   "metadata": {},
   "source": [
    "### Tidiness Issue 1: Crash Date and Time Separation"
   ]
  },
  {
   "cell_type": "code",
   "execution_count": 107,
   "id": "0dc6ba5a",
   "metadata": {},
   "outputs": [],
   "source": [
    "# Create a new string column to hold the combined CRASH DATE and CRASH TIME columns\n",
    "motor_accident_cleaned['CRASH DATETIME STR'] = motor_accident_cleaned['CRASH DATE'].dt.strftime('%Y-%m-%d') + ' ' + motor_accident_cleaned['CRASH TIME'].astype(str)\n",
    "\n",
    "# Convert this placeholder column into a proper datetime object\n",
    "motor_accident_cleaned['CRASH DATETIME'] = pd.to_datetime(motor_accident_cleaned['CRASH DATETIME STR'], errors='coerce')\n",
    "\n",
    "# Drop the old CRASH DATE, CRASH TIME, and placeholder CRASH DATETIME STR columns from the dataset\n",
    "motor_accident_cleaned.drop(columns=['CRASH DATE', 'CRASH TIME', 'CRASH DATETIME STR'], inplace=True)"
   ]
  },
  {
   "cell_type": "markdown",
   "id": "26da6ab7",
   "metadata": {},
   "source": [
    "> In the code above, I create a placeholder column that will hold the datetime in string format and formatted by YYYY-MM-DD. Once the cell is created and is holding the date and time put together, I then create a new CRASH DATETIME column that stores the infomation in the CRASH DATETIME STR but is stored as a datetime data type. Once this is done, all of the unneeded columns are then dropped from the dataset"
   ]
  },
  {
   "cell_type": "code",
   "execution_count": 108,
   "id": "b7bc8223",
   "metadata": {},
   "outputs": [],
   "source": [
    "#Sets the new CRASH DATETIME column to the front when printing data\n",
    "cols = motor_accident_cleaned.columns.tolist()\n",
    "\n",
    "#Removes the column CRASH DATETIME that is at the end of dataset\n",
    "cols.remove('CRASH DATETIME')\n",
    "\n",
    "#Inserts the CRASH DATETIME to the beginning of the dataset\n",
    "cols.insert(0, 'CRASH DATETIME')\n",
    "\n",
    "#Applies this change to the cleaned dataset\n",
    "motor_accident_cleaned = motor_accident_cleaned[cols]"
   ]
  },
  {
   "cell_type": "markdown",
   "id": "5574f795",
   "metadata": {},
   "source": [
    "> In the code above, I am simply reordering the layout of the dataset so the CRASH DATETIME columns is in the front."
   ]
  },
  {
   "cell_type": "code",
   "execution_count": 109,
   "id": "69765519",
   "metadata": {},
   "outputs": [
    {
     "name": "stdout",
     "output_type": "stream",
     "text": [
      "<class 'pandas.core.frame.DataFrame'>\n",
      "Index: 92065 entries, 2 to 99999\n",
      "Data columns (total 28 columns):\n",
      " #   Column                         Non-Null Count  Dtype         \n",
      "---  ------                         --------------  -----         \n",
      " 0   CRASH DATETIME                 92065 non-null  datetime64[ns]\n",
      " 1   BOROUGH                        63755 non-null  object        \n",
      " 2   ZIP CODE                       63746 non-null  float64       \n",
      " 3   LATITUDE                       92065 non-null  float64       \n",
      " 4   LONGITUDE                      92065 non-null  float64       \n",
      " 5   LOCATION                       92065 non-null  object        \n",
      " 6   ON STREET NAME                 65852 non-null  object        \n",
      " 7   CROSS STREET NAME              42789 non-null  object        \n",
      " 8   OFF STREET NAME                26213 non-null  object        \n",
      " 9   NUMBER OF PERSONS INJURED      92065 non-null  int32         \n",
      " 10  NUMBER OF PERSONS KILLED       92065 non-null  int32         \n",
      " 11  NUMBER OF PEDESTRIANS INJURED  92065 non-null  int64         \n",
      " 12  NUMBER OF PEDESTRIANS KILLED   92065 non-null  int64         \n",
      " 13  NUMBER OF CYCLIST INJURED      92065 non-null  int64         \n",
      " 14  NUMBER OF CYCLIST KILLED       92065 non-null  int64         \n",
      " 15  NUMBER OF MOTORIST INJURED     92065 non-null  int64         \n",
      " 16  NUMBER OF MOTORIST KILLED      92065 non-null  int64         \n",
      " 17  CONTRIBUTING FACTOR VEHICLE 1  91598 non-null  object        \n",
      " 18  CONTRIBUTING FACTOR VEHICLE 2  71179 non-null  object        \n",
      " 19  CONTRIBUTING FACTOR VEHICLE 3  9369 non-null   object        \n",
      " 20  CONTRIBUTING FACTOR VEHICLE 4  2584 non-null   object        \n",
      " 21  CONTRIBUTING FACTOR VEHICLE 5  797 non-null    object        \n",
      " 22  COLLISION_ID                   92065 non-null  int64         \n",
      " 23  VEHICLE TYPE CODE 1            90941 non-null  object        \n",
      " 24  VEHICLE TYPE CODE 2            61147 non-null  object        \n",
      " 25  VEHICLE TYPE CODE 3            8672 non-null   object        \n",
      " 26  VEHICLE TYPE CODE 4            2438 non-null   object        \n",
      " 27  VEHICLE TYPE CODE 5            767 non-null    object        \n",
      "dtypes: datetime64[ns](1), float64(3), int32(2), int64(7), object(15)\n",
      "memory usage: 19.7+ MB\n"
     ]
    }
   ],
   "source": [
    "# Checks the CRASH DATETIME column was added and is of the correct datatype\n",
    "motor_accident_cleaned.info()"
   ]
  },
  {
   "cell_type": "markdown",
   "id": "29269b26",
   "metadata": {},
   "source": [
    "### Tidiness Issue 2: Unneeded Columns"
   ]
  },
  {
   "cell_type": "markdown",
   "id": "133149bc",
   "metadata": {},
   "source": [
    "The first step I take when getting rid of all the unneeded columns in the dataset is create a function that will take in a list of columns that can be adjusted based on the analysis being performed. I created this function so that if the columns needed to be dropped changed, I will be able to just modify the list of columns variable created below rather than having to hard code the columns to drop every time analysis requirements change"
   ]
  },
  {
   "cell_type": "code",
   "execution_count": 110,
   "id": "9f058ce3",
   "metadata": {},
   "outputs": [],
   "source": [
    "# Function used to drop columns that are no longer needed\n",
    "def drop_columns(columns_to_drop):\n",
    "    # Name index used to show what entry is invalid for error message\n",
    "    name_index = 0\n",
    "    try:\n",
    "        \n",
    "        # First for loop just checks to see if the column is in dataset\n",
    "        # and throws an exception if any entry in list isn't in dataset\n",
    "        for col in columns_to_drop:   \n",
    "            if col not in motor_accident_cleaned.columns:\n",
    "                raise ValueError(f\"Column '{col}' not found in Motor Accident Dataset!\")\n",
    "            name_index += 1\n",
    "            \n",
    "        # This loop will only run after first loop guarantees all items in\n",
    "        # list are valid column names in dataset\n",
    "        for col in columns_to_drop:\n",
    "            motor_accident_cleaned.drop(col, inplace=True, axis=1)\n",
    "        print(f\"Sucessfully dropped all specified columns\")\n",
    "    except ValueError as e:\n",
    "        print(f\"Error: {e}\")"
   ]
  },
  {
   "cell_type": "code",
   "execution_count": 111,
   "id": "10842e6a",
   "metadata": {},
   "outputs": [
    {
     "name": "stdout",
     "output_type": "stream",
     "text": [
      "Sucessfully dropped all specified columns\n"
     ]
    }
   ],
   "source": [
    "# List of unneeded columns\n",
    "unneeded_col_list = ['BOROUGH', 'ZIP CODE', 'LOCATION', 'ON STREET NAME', 'CROSS STREET NAME',\n",
    "                 'OFF STREET NAME', 'NUMBER OF PEDESTRIANS INJURED', 'NUMBER OF PEDESTRIANS KILLED',\n",
    "                 'NUMBER OF CYCLIST INJURED', 'NUMBER OF CYCLIST KILLED', 'NUMBER OF MOTORIST INJURED',\n",
    "                 'NUMBER OF MOTORIST KILLED', 'CONTRIBUTING FACTOR VEHICLE 1', 'CONTRIBUTING FACTOR VEHICLE 2',\n",
    "                 'CONTRIBUTING FACTOR VEHICLE 3', 'CONTRIBUTING FACTOR VEHICLE 4', 'CONTRIBUTING FACTOR VEHICLE 5',\n",
    "                 'VEHICLE TYPE CODE 1', 'VEHICLE TYPE CODE 2', 'VEHICLE TYPE CODE 3', 'VEHICLE TYPE CODE 4',\n",
    "                 'VEHICLE TYPE CODE 5']\n",
    "drop_columns(unneeded_col_list)"
   ]
  },
  {
   "cell_type": "code",
   "execution_count": 112,
   "id": "1ff041ee",
   "metadata": {},
   "outputs": [
    {
     "data": {
      "text/html": [
       "<div>\n",
       "<style scoped>\n",
       "    .dataframe tbody tr th:only-of-type {\n",
       "        vertical-align: middle;\n",
       "    }\n",
       "\n",
       "    .dataframe tbody tr th {\n",
       "        vertical-align: top;\n",
       "    }\n",
       "\n",
       "    .dataframe thead th {\n",
       "        text-align: right;\n",
       "    }\n",
       "</style>\n",
       "<table border=\"1\" class=\"dataframe\">\n",
       "  <thead>\n",
       "    <tr style=\"text-align: right;\">\n",
       "      <th></th>\n",
       "      <th>CRASH DATETIME</th>\n",
       "      <th>LATITUDE</th>\n",
       "      <th>LONGITUDE</th>\n",
       "      <th>NUMBER OF PERSONS INJURED</th>\n",
       "      <th>NUMBER OF PERSONS KILLED</th>\n",
       "      <th>COLLISION_ID</th>\n",
       "    </tr>\n",
       "  </thead>\n",
       "  <tbody>\n",
       "    <tr>\n",
       "      <th>2</th>\n",
       "      <td>2023-11-01 01:29:00</td>\n",
       "      <td>40.621790</td>\n",
       "      <td>-73.970024</td>\n",
       "      <td>1</td>\n",
       "      <td>0</td>\n",
       "      <td>4675373</td>\n",
       "    </tr>\n",
       "    <tr>\n",
       "      <th>9</th>\n",
       "      <td>2021-09-11 09:35:00</td>\n",
       "      <td>40.667202</td>\n",
       "      <td>-73.866500</td>\n",
       "      <td>0</td>\n",
       "      <td>0</td>\n",
       "      <td>4456314</td>\n",
       "    </tr>\n",
       "    <tr>\n",
       "      <th>10</th>\n",
       "      <td>2021-12-14 08:13:00</td>\n",
       "      <td>40.683304</td>\n",
       "      <td>-73.917274</td>\n",
       "      <td>0</td>\n",
       "      <td>0</td>\n",
       "      <td>4486609</td>\n",
       "    </tr>\n",
       "    <tr>\n",
       "      <th>12</th>\n",
       "      <td>2021-12-14 17:05:00</td>\n",
       "      <td>40.709183</td>\n",
       "      <td>-73.956825</td>\n",
       "      <td>0</td>\n",
       "      <td>0</td>\n",
       "      <td>4486555</td>\n",
       "    </tr>\n",
       "    <tr>\n",
       "      <th>13</th>\n",
       "      <td>2021-12-14 08:17:00</td>\n",
       "      <td>40.868160</td>\n",
       "      <td>-73.831480</td>\n",
       "      <td>2</td>\n",
       "      <td>0</td>\n",
       "      <td>4486660</td>\n",
       "    </tr>\n",
       "  </tbody>\n",
       "</table>\n",
       "</div>"
      ],
      "text/plain": [
       "        CRASH DATETIME   LATITUDE  LONGITUDE  NUMBER OF PERSONS INJURED  \\\n",
       "2  2023-11-01 01:29:00  40.621790 -73.970024                          1   \n",
       "9  2021-09-11 09:35:00  40.667202 -73.866500                          0   \n",
       "10 2021-12-14 08:13:00  40.683304 -73.917274                          0   \n",
       "12 2021-12-14 17:05:00  40.709183 -73.956825                          0   \n",
       "13 2021-12-14 08:17:00  40.868160 -73.831480                          2   \n",
       "\n",
       "    NUMBER OF PERSONS KILLED  COLLISION_ID  \n",
       "2                          0       4675373  \n",
       "9                          0       4456314  \n",
       "10                         0       4486609  \n",
       "12                         0       4486555  \n",
       "13                         0       4486660  "
      ]
     },
     "execution_count": 112,
     "metadata": {},
     "output_type": "execute_result"
    }
   ],
   "source": [
    "# Displays head to verify columns were dropped\n",
    "motor_accident_cleaned.head()"
   ]
  },
  {
   "cell_type": "markdown",
   "id": "a76e0fc8",
   "metadata": {},
   "source": [
    "> As shown above, all the unneeded columns have now been dropped from the cleaned version of the dataset. This version of the dataset is now ready to be merged with the weather dataset"
   ]
  },
  {
   "cell_type": "markdown",
   "id": "cab29ae1",
   "metadata": {},
   "source": [
    "### Remove unnecessary variables and combine datasets"
   ]
  },
  {
   "cell_type": "code",
   "execution_count": 113,
   "id": "e064458c",
   "metadata": {},
   "outputs": [
    {
     "name": "stdout",
     "output_type": "stream",
     "text": [
      "Number of duplicate entries: 0\n"
     ]
    }
   ],
   "source": [
    "# Creates vairable to hold how many unique values there are\n",
    "num_unique = motor_accident_cleaned['COLLISION_ID'].nunique()\n",
    "\n",
    "# Subtracts the amount of unique counts from the total amount of entries\n",
    "print(f\"Number of duplicate entries: {len(motor_accident_cleaned) - num_unique}\")"
   ]
  },
  {
   "cell_type": "markdown",
   "id": "9bc01fde",
   "metadata": {},
   "source": [
    "> The first thing I do before merging the datasets together is ensure that there are no duplicate entries in the cleaned dataset using the primary key (COLLISION_ID)"
   ]
  },
  {
   "cell_type": "code",
   "execution_count": 114,
   "id": "dab580df",
   "metadata": {},
   "outputs": [
    {
     "name": "stdout",
     "output_type": "stream",
     "text": [
      "<class 'pandas.core.frame.DataFrame'>\n",
      "Index: 92065 entries, 2 to 99999\n",
      "Data columns (total 6 columns):\n",
      " #   Column                     Non-Null Count  Dtype         \n",
      "---  ------                     --------------  -----         \n",
      " 0   CRASH DATETIME             92065 non-null  datetime64[ns]\n",
      " 1   LATITUDE                   92065 non-null  float64       \n",
      " 2   LONGITUDE                  92065 non-null  float64       \n",
      " 3   NUMBER OF PERSONS INJURED  92065 non-null  int32         \n",
      " 4   NUMBER OF PERSONS KILLED   92065 non-null  int32         \n",
      " 5   COLLISION_ID               92065 non-null  int64         \n",
      "dtypes: datetime64[ns](1), float64(2), int32(2), int64(1)\n",
      "memory usage: 4.2 MB\n"
     ]
    }
   ],
   "source": [
    "motor_accident_cleaned.info()"
   ]
  },
  {
   "cell_type": "code",
   "execution_count": 115,
   "id": "0bc926ec",
   "metadata": {},
   "outputs": [],
   "source": [
    "# Drop any rows with nulls in the weather data\n",
    "nyc_weather_cleaned.dropna(inplace=True)\n",
    "\n",
    "# Converts the 'time' column to date objects\n",
    "nyc_weather_cleaned['time'] = pd.to_datetime(nyc_weather_cleaned['time']).dt.date\n",
    "\n",
    "# Renames the  'time' column to 'CRASH DATE ONLY' for the merge\n",
    "nyc_weather_cleaned.rename(columns={'time': 'CRASH DATE ONLY'}, inplace=True)\n",
    "\n",
    "# Creates a date only column for the puropse of the merge\n",
    "motor_accident_cleaned['CRASH DATE ONLY'] = motor_accident_cleaned['CRASH DATETIME'].dt.date\n",
    "\n",
    "# Merges the dataset with motor accidents on the left and weather on the right so data is filled to the accidents if available\n",
    "merged_df = pd.merge(motor_accident_cleaned, nyc_weather_cleaned, on='CRASH DATE ONLY', how='left')\n",
    "\n",
    "# Drop the temporary 'CRASH DATE ONLY' column from the merged_df\n",
    "merged_df.drop(columns=['CRASH DATE ONLY'], inplace=True)"
   ]
  },
  {
   "cell_type": "code",
   "execution_count": 116,
   "id": "641a8fc6",
   "metadata": {},
   "outputs": [
    {
     "data": {
      "text/html": [
       "<div>\n",
       "<style scoped>\n",
       "    .dataframe tbody tr th:only-of-type {\n",
       "        vertical-align: middle;\n",
       "    }\n",
       "\n",
       "    .dataframe tbody tr th {\n",
       "        vertical-align: top;\n",
       "    }\n",
       "\n",
       "    .dataframe thead th {\n",
       "        text-align: right;\n",
       "    }\n",
       "</style>\n",
       "<table border=\"1\" class=\"dataframe\">\n",
       "  <thead>\n",
       "    <tr style=\"text-align: right;\">\n",
       "      <th></th>\n",
       "      <th>CRASH DATETIME</th>\n",
       "      <th>LATITUDE</th>\n",
       "      <th>LONGITUDE</th>\n",
       "      <th>NUMBER OF PERSONS INJURED</th>\n",
       "      <th>NUMBER OF PERSONS KILLED</th>\n",
       "      <th>COLLISION_ID</th>\n",
       "      <th>temperature_2m_max</th>\n",
       "      <th>temperature_2m_min</th>\n",
       "      <th>precipitation_sum</th>\n",
       "      <th>rain_sum</th>\n",
       "      <th>snowfall_sum</th>\n",
       "      <th>precipitation_hours</th>\n",
       "      <th>weather_code</th>\n",
       "      <th>wind_speed_10m_max</th>\n",
       "      <th>wind_gusts_10m_max</th>\n",
       "      <th>wind_direction_10m_dominant</th>\n",
       "    </tr>\n",
       "  </thead>\n",
       "  <tbody>\n",
       "    <tr>\n",
       "      <th>0</th>\n",
       "      <td>2023-11-01 01:29:00</td>\n",
       "      <td>40.621790</td>\n",
       "      <td>-73.970024</td>\n",
       "      <td>1</td>\n",
       "      <td>0</td>\n",
       "      <td>4675373</td>\n",
       "      <td>9.4</td>\n",
       "      <td>3.4</td>\n",
       "      <td>2.8</td>\n",
       "      <td>2.8</td>\n",
       "      <td>0.0</td>\n",
       "      <td>12.0</td>\n",
       "      <td>53</td>\n",
       "      <td>22.0</td>\n",
       "      <td>44.6</td>\n",
       "      <td>333</td>\n",
       "    </tr>\n",
       "    <tr>\n",
       "      <th>1</th>\n",
       "      <td>2021-09-11 09:35:00</td>\n",
       "      <td>40.667202</td>\n",
       "      <td>-73.866500</td>\n",
       "      <td>0</td>\n",
       "      <td>0</td>\n",
       "      <td>4456314</td>\n",
       "      <td>24.7</td>\n",
       "      <td>12.9</td>\n",
       "      <td>0.0</td>\n",
       "      <td>0.0</td>\n",
       "      <td>0.0</td>\n",
       "      <td>0.0</td>\n",
       "      <td>3</td>\n",
       "      <td>16.6</td>\n",
       "      <td>34.2</td>\n",
       "      <td>246</td>\n",
       "    </tr>\n",
       "    <tr>\n",
       "      <th>2</th>\n",
       "      <td>2021-12-14 08:13:00</td>\n",
       "      <td>40.683304</td>\n",
       "      <td>-73.917274</td>\n",
       "      <td>0</td>\n",
       "      <td>0</td>\n",
       "      <td>4486609</td>\n",
       "      <td>10.4</td>\n",
       "      <td>3.1</td>\n",
       "      <td>0.0</td>\n",
       "      <td>0.0</td>\n",
       "      <td>0.0</td>\n",
       "      <td>0.0</td>\n",
       "      <td>3</td>\n",
       "      <td>18.5</td>\n",
       "      <td>31.3</td>\n",
       "      <td>322</td>\n",
       "    </tr>\n",
       "    <tr>\n",
       "      <th>3</th>\n",
       "      <td>2021-12-14 17:05:00</td>\n",
       "      <td>40.709183</td>\n",
       "      <td>-73.956825</td>\n",
       "      <td>0</td>\n",
       "      <td>0</td>\n",
       "      <td>4486555</td>\n",
       "      <td>10.4</td>\n",
       "      <td>3.1</td>\n",
       "      <td>0.0</td>\n",
       "      <td>0.0</td>\n",
       "      <td>0.0</td>\n",
       "      <td>0.0</td>\n",
       "      <td>3</td>\n",
       "      <td>18.5</td>\n",
       "      <td>31.3</td>\n",
       "      <td>322</td>\n",
       "    </tr>\n",
       "    <tr>\n",
       "      <th>4</th>\n",
       "      <td>2021-12-14 08:17:00</td>\n",
       "      <td>40.868160</td>\n",
       "      <td>-73.831480</td>\n",
       "      <td>2</td>\n",
       "      <td>0</td>\n",
       "      <td>4486660</td>\n",
       "      <td>10.4</td>\n",
       "      <td>3.1</td>\n",
       "      <td>0.0</td>\n",
       "      <td>0.0</td>\n",
       "      <td>0.0</td>\n",
       "      <td>0.0</td>\n",
       "      <td>3</td>\n",
       "      <td>18.5</td>\n",
       "      <td>31.3</td>\n",
       "      <td>322</td>\n",
       "    </tr>\n",
       "  </tbody>\n",
       "</table>\n",
       "</div>"
      ],
      "text/plain": [
       "       CRASH DATETIME   LATITUDE  LONGITUDE  NUMBER OF PERSONS INJURED  \\\n",
       "0 2023-11-01 01:29:00  40.621790 -73.970024                          1   \n",
       "1 2021-09-11 09:35:00  40.667202 -73.866500                          0   \n",
       "2 2021-12-14 08:13:00  40.683304 -73.917274                          0   \n",
       "3 2021-12-14 17:05:00  40.709183 -73.956825                          0   \n",
       "4 2021-12-14 08:17:00  40.868160 -73.831480                          2   \n",
       "\n",
       "   NUMBER OF PERSONS KILLED  COLLISION_ID  temperature_2m_max  \\\n",
       "0                         0       4675373                 9.4   \n",
       "1                         0       4456314                24.7   \n",
       "2                         0       4486609                10.4   \n",
       "3                         0       4486555                10.4   \n",
       "4                         0       4486660                10.4   \n",
       "\n",
       "   temperature_2m_min  precipitation_sum  rain_sum  snowfall_sum  \\\n",
       "0                 3.4                2.8       2.8           0.0   \n",
       "1                12.9                0.0       0.0           0.0   \n",
       "2                 3.1                0.0       0.0           0.0   \n",
       "3                 3.1                0.0       0.0           0.0   \n",
       "4                 3.1                0.0       0.0           0.0   \n",
       "\n",
       "   precipitation_hours  weather_code  wind_speed_10m_max  wind_gusts_10m_max  \\\n",
       "0                 12.0            53                22.0                44.6   \n",
       "1                  0.0             3                16.6                34.2   \n",
       "2                  0.0             3                18.5                31.3   \n",
       "3                  0.0             3                18.5                31.3   \n",
       "4                  0.0             3                18.5                31.3   \n",
       "\n",
       "   wind_direction_10m_dominant  \n",
       "0                          333  \n",
       "1                          246  \n",
       "2                          322  \n",
       "3                          322  \n",
       "4                          322  "
      ]
     },
     "execution_count": 116,
     "metadata": {},
     "output_type": "execute_result"
    }
   ],
   "source": [
    "merged_df.head()"
   ]
  },
  {
   "cell_type": "markdown",
   "id": "7241eb85",
   "metadata": {},
   "source": [
    "### Creating Metrics for Analysis: Accident Rates"
   ]
  },
  {
   "cell_type": "code",
   "execution_count": 117,
   "id": "b7ee701c",
   "metadata": {},
   "outputs": [
    {
     "name": "stdout",
     "output_type": "stream",
     "text": [
      " 'Weather Description' column created.\n"
     ]
    }
   ],
   "source": [
    "# Creating a weather code column that stores the string representation (i.e. 53 = Drizzle: Moderate) for analysis purposes\n",
    "# All weather codes provided are found one the open-meteo website\n",
    "weather_code_mapping = {\n",
    "    0: 'Clear sky', 1: 'Mainly clear', 2: 'Partly cloudy', 3: 'Overcast',\n",
    "    45: 'Fog', 48: 'Depositing rime fog', 51: 'Drizzle: Light',\n",
    "    53: 'Drizzle: Moderate', 55: 'Drizzle: Dense',\n",
    "    56: 'Freezing Drizzle: Light', 57: 'Freezing Drizzle: Dense',\n",
    "    61: 'Rain: Light', 63: 'Rain: Moderate', 65: 'Rain: Heavy',\n",
    "    66: 'Freezing Rain: Light', 67: 'Freezing Rain: Heavy',\n",
    "    71: 'Snow fall: Light', 73: 'Snow fall: Moderate', 75: 'Snow fall: Heavy',\n",
    "    77: 'Snow grains', 80: 'Rain showers: Light', 81: 'Rain showers: Moderate',\n",
    "    82: 'Rain showers: Violent', 85: 'Snow showers: Light',\n",
    "    86: 'Snow showers: Heavy', 95: 'Thunderstorm: Slight or moderate',\n",
    "    96: 'Thunderstorm with slight hail', 99: 'Thunderstorm with heavy hail'\n",
    "}\n",
    "if 'Weather Description' not in merged_df.columns:\n",
    "    merged_df['Weather Description'] = merged_df['weather_code'].map(weather_code_mapping)\n",
    "    print(\" 'Weather Description' column created.\")"
   ]
  },
  {
   "cell_type": "code",
   "execution_count": 118,
   "id": "e7c8224c",
   "metadata": {},
   "outputs": [],
   "source": [
    "#Defining weather categories for analysis\n",
    "sunny_weather_types = ['Clear sky', 'Mainly clear']\n",
    "snowy_weather_types = [\n",
    "    'Snow fall: Light', 'Snow fall: Moderate', 'Snow fall: Heavy',\n",
    "    'Snow showers: Light', 'Snow showers: Heavy', 'Snow grains'\n",
    "]"
   ]
  },
  {
   "cell_type": "markdown",
   "id": "00198cb6",
   "metadata": {},
   "source": [
    "> In the columns above, I created a dictonary of all the weather codes that are listed on the open-meteo website. Once that is created, I test to see if the column Weather Description already exists in the merged dataset. If it does exist, nothing happens. If it does not exist, it is then created and the values are entered using the code assigned to the weather_code column. I then create two lists that contain the weather description of sunny days and snowy days for analysis."
   ]
  },
  {
   "cell_type": "code",
   "execution_count": 119,
   "id": "cb39f768",
   "metadata": {},
   "outputs": [],
   "source": [
    "# Filtering the DataFrame to include only these specific weather types for efficiency\n",
    "comparison_df = merged_df[\n",
    "    merged_df['Weather Description'].isin(sunny_weather_types + snowy_weather_types)\n",
    "].copy()"
   ]
  },
  {
   "cell_type": "code",
   "execution_count": 120,
   "id": "0ca3fbef",
   "metadata": {},
   "outputs": [],
   "source": [
    "# Extracting date component for counting unique days\n",
    "comparison_df['CRASH DATE ONLY'] = comparison_df['CRASH DATETIME'].dt.date"
   ]
  },
  {
   "cell_type": "code",
   "execution_count": 121,
   "id": "8b38bd27",
   "metadata": {},
   "outputs": [
    {
     "data": {
      "text/html": [
       "<div>\n",
       "<style scoped>\n",
       "    .dataframe tbody tr th:only-of-type {\n",
       "        vertical-align: middle;\n",
       "    }\n",
       "\n",
       "    .dataframe tbody tr th {\n",
       "        vertical-align: top;\n",
       "    }\n",
       "\n",
       "    .dataframe thead th {\n",
       "        text-align: right;\n",
       "    }\n",
       "</style>\n",
       "<table border=\"1\" class=\"dataframe\">\n",
       "  <thead>\n",
       "    <tr style=\"text-align: right;\">\n",
       "      <th></th>\n",
       "      <th>Weather Description</th>\n",
       "      <th>Total_Accidents</th>\n",
       "    </tr>\n",
       "  </thead>\n",
       "  <tbody>\n",
       "    <tr>\n",
       "      <th>0</th>\n",
       "      <td>Clear sky</td>\n",
       "      <td>1486</td>\n",
       "    </tr>\n",
       "    <tr>\n",
       "      <th>1</th>\n",
       "      <td>Mainly clear</td>\n",
       "      <td>3308</td>\n",
       "    </tr>\n",
       "    <tr>\n",
       "      <th>2</th>\n",
       "      <td>Snow fall: Heavy</td>\n",
       "      <td>776</td>\n",
       "    </tr>\n",
       "    <tr>\n",
       "      <th>3</th>\n",
       "      <td>Snow fall: Light</td>\n",
       "      <td>1984</td>\n",
       "    </tr>\n",
       "    <tr>\n",
       "      <th>4</th>\n",
       "      <td>Snow fall: Moderate</td>\n",
       "      <td>1538</td>\n",
       "    </tr>\n",
       "  </tbody>\n",
       "</table>\n",
       "</div>"
      ],
      "text/plain": [
       "   Weather Description  Total_Accidents\n",
       "0            Clear sky             1486\n",
       "1         Mainly clear             3308\n",
       "2     Snow fall: Heavy              776\n",
       "3     Snow fall: Light             1984\n",
       "4  Snow fall: Moderate             1538"
      ]
     },
     "execution_count": 121,
     "metadata": {},
     "output_type": "execute_result"
    }
   ],
   "source": [
    "# Calculating the total number of accidents for each weather description\n",
    "total_accidents_by_weather = comparison_df.groupby('Weather Description').agg(\n",
    "    Total_Accidents=('COLLISION_ID', 'count')\n",
    ").reset_index()\n",
    "total_accidents_by_weather"
   ]
  },
  {
   "cell_type": "markdown",
   "id": "4e494f18",
   "metadata": {},
   "source": [
    "> In the cells above I created a new dataframe that will house the infomation of the weather description and the total amount of accidents that occured in that weather condition."
   ]
  },
  {
   "cell_type": "code",
   "execution_count": 122,
   "id": "a8b7b7c3",
   "metadata": {},
   "outputs": [
    {
     "data": {
      "text/html": [
       "<div>\n",
       "<style scoped>\n",
       "    .dataframe tbody tr th:only-of-type {\n",
       "        vertical-align: middle;\n",
       "    }\n",
       "\n",
       "    .dataframe tbody tr th {\n",
       "        vertical-align: top;\n",
       "    }\n",
       "\n",
       "    .dataframe thead th {\n",
       "        text-align: right;\n",
       "    }\n",
       "</style>\n",
       "<table border=\"1\" class=\"dataframe\">\n",
       "  <thead>\n",
       "    <tr style=\"text-align: right;\">\n",
       "      <th></th>\n",
       "      <th>Weather Description</th>\n",
       "      <th>Number_of_Unique_Days</th>\n",
       "    </tr>\n",
       "  </thead>\n",
       "  <tbody>\n",
       "    <tr>\n",
       "      <th>0</th>\n",
       "      <td>Clear sky</td>\n",
       "      <td>19</td>\n",
       "    </tr>\n",
       "    <tr>\n",
       "      <th>1</th>\n",
       "      <td>Mainly clear</td>\n",
       "      <td>25</td>\n",
       "    </tr>\n",
       "    <tr>\n",
       "      <th>2</th>\n",
       "      <td>Snow fall: Heavy</td>\n",
       "      <td>8</td>\n",
       "    </tr>\n",
       "    <tr>\n",
       "      <th>3</th>\n",
       "      <td>Snow fall: Light</td>\n",
       "      <td>19</td>\n",
       "    </tr>\n",
       "    <tr>\n",
       "      <th>4</th>\n",
       "      <td>Snow fall: Moderate</td>\n",
       "      <td>25</td>\n",
       "    </tr>\n",
       "  </tbody>\n",
       "</table>\n",
       "</div>"
      ],
      "text/plain": [
       "   Weather Description  Number_of_Unique_Days\n",
       "0            Clear sky                     19\n",
       "1         Mainly clear                     25\n",
       "2     Snow fall: Heavy                      8\n",
       "3     Snow fall: Light                     19\n",
       "4  Snow fall: Moderate                     25"
      ]
     },
     "execution_count": 122,
     "metadata": {},
     "output_type": "execute_result"
    }
   ],
   "source": [
    "# Calculate the number of unique days for each weather description\n",
    "unique_days_by_weather = comparison_df.groupby('Weather Description')['CRASH DATE ONLY'].nunique().reset_index()\n",
    "unique_days_by_weather.rename(columns={'CRASH DATE ONLY': 'Number_of_Unique_Days'}, inplace=True)\n",
    "\n",
    "unique_days_by_weather"
   ]
  },
  {
   "cell_type": "code",
   "execution_count": 123,
   "id": "b639a8fe",
   "metadata": {},
   "outputs": [
    {
     "data": {
      "text/html": [
       "<div>\n",
       "<style scoped>\n",
       "    .dataframe tbody tr th:only-of-type {\n",
       "        vertical-align: middle;\n",
       "    }\n",
       "\n",
       "    .dataframe tbody tr th {\n",
       "        vertical-align: top;\n",
       "    }\n",
       "\n",
       "    .dataframe thead th {\n",
       "        text-align: right;\n",
       "    }\n",
       "</style>\n",
       "<table border=\"1\" class=\"dataframe\">\n",
       "  <thead>\n",
       "    <tr style=\"text-align: right;\">\n",
       "      <th></th>\n",
       "      <th>Weather Description</th>\n",
       "      <th>Total_Accidents</th>\n",
       "      <th>Number_of_Unique_Days</th>\n",
       "    </tr>\n",
       "  </thead>\n",
       "  <tbody>\n",
       "    <tr>\n",
       "      <th>0</th>\n",
       "      <td>Clear sky</td>\n",
       "      <td>1486</td>\n",
       "      <td>19</td>\n",
       "    </tr>\n",
       "    <tr>\n",
       "      <th>1</th>\n",
       "      <td>Mainly clear</td>\n",
       "      <td>3308</td>\n",
       "      <td>25</td>\n",
       "    </tr>\n",
       "    <tr>\n",
       "      <th>2</th>\n",
       "      <td>Snow fall: Heavy</td>\n",
       "      <td>776</td>\n",
       "      <td>8</td>\n",
       "    </tr>\n",
       "    <tr>\n",
       "      <th>3</th>\n",
       "      <td>Snow fall: Light</td>\n",
       "      <td>1984</td>\n",
       "      <td>19</td>\n",
       "    </tr>\n",
       "    <tr>\n",
       "      <th>4</th>\n",
       "      <td>Snow fall: Moderate</td>\n",
       "      <td>1538</td>\n",
       "      <td>25</td>\n",
       "    </tr>\n",
       "  </tbody>\n",
       "</table>\n",
       "</div>"
      ],
      "text/plain": [
       "   Weather Description  Total_Accidents  Number_of_Unique_Days\n",
       "0            Clear sky             1486                     19\n",
       "1         Mainly clear             3308                     25\n",
       "2     Snow fall: Heavy              776                      8\n",
       "3     Snow fall: Light             1984                     19\n",
       "4  Snow fall: Moderate             1538                     25"
      ]
     },
     "execution_count": 123,
     "metadata": {},
     "output_type": "execute_result"
    }
   ],
   "source": [
    "# Merge these two aggregated dataframes to get counts and unique days together\n",
    "weather_impact_rates = pd.merge(total_accidents_by_weather, unique_days_by_weather, on='Weather Description', how='left')\n",
    "weather_impact_rates"
   ]
  },
  {
   "cell_type": "code",
   "execution_count": 124,
   "id": "aa603d8e",
   "metadata": {},
   "outputs": [
    {
     "data": {
      "text/plain": [
       "0     78.210526\n",
       "1    132.320000\n",
       "2     97.000000\n",
       "3    104.421053\n",
       "4     61.520000\n",
       "Name: Accidents_Per_Day, dtype: float64"
      ]
     },
     "execution_count": 124,
     "metadata": {},
     "output_type": "execute_result"
    }
   ],
   "source": [
    "# Calculate the 'Accidents Per Day' metric for analysis\n",
    "weather_impact_rates['Accidents_Per_Day'] = weather_impact_rates['Total_Accidents'] / weather_impact_rates['Number_of_Unique_Days']\n",
    "weather_impact_rates['Accidents_Per_Day']"
   ]
  },
  {
   "cell_type": "markdown",
   "id": "d4730280",
   "metadata": {},
   "source": [
    "> Once the new dataframe is set up, I then go on to create another simple dataframe that houses the number of unique days in a season. This is important since there are more sunny days that happen in a year than there are snowy days, so just looking at totals will not give valueable insights. Once the second new dataframe is created, I then merge these together to store all the information together."
   ]
  },
  {
   "cell_type": "code",
   "execution_count": 125,
   "id": "4df1293a",
   "metadata": {},
   "outputs": [],
   "source": [
    "#Creates two categories for sunny/clear and snowy conditions for analysis\n",
    "weather_impact_rates['Category'] = weather_impact_rates['Weather Description'].apply(\n",
    "    lambda x: 'Snowy Conditions' if x in snowy_weather_types else 'Sunny/Clear Conditions'\n",
    ")"
   ]
  },
  {
   "cell_type": "code",
   "execution_count": 126,
   "id": "56c0eb2b",
   "metadata": {},
   "outputs": [],
   "source": [
    "#Aggregating by the combined category for analysis\n",
    "avg_accidents = weather_impact_rates.groupby('Category').agg(\n",
    "    Total_Accidents=('Total_Accidents', 'sum'),\n",
    "    Number_of_Unique_Days=('Number_of_Unique_Days', 'sum')\n",
    ").reset_index() # Reset index to make 'Category' a column\n",
    "\n",
    "avg_accidents['Accidents_Per_Day'] = avg_accidents['Total_Accidents'] / avg_accidents['Number_of_Unique_Days']\n",
    "avg_accidents = avg_accidents.sort_values(by='Accidents_Per_Day', ascending=False)"
   ]
  },
  {
   "cell_type": "code",
   "execution_count": 127,
   "id": "bbf7949d",
   "metadata": {},
   "outputs": [
    {
     "data": {
      "text/html": [
       "<div>\n",
       "<style scoped>\n",
       "    .dataframe tbody tr th:only-of-type {\n",
       "        vertical-align: middle;\n",
       "    }\n",
       "\n",
       "    .dataframe tbody tr th {\n",
       "        vertical-align: top;\n",
       "    }\n",
       "\n",
       "    .dataframe thead th {\n",
       "        text-align: right;\n",
       "    }\n",
       "</style>\n",
       "<table border=\"1\" class=\"dataframe\">\n",
       "  <thead>\n",
       "    <tr style=\"text-align: right;\">\n",
       "      <th></th>\n",
       "      <th>Category</th>\n",
       "      <th>Total_Accidents</th>\n",
       "      <th>Number_of_Unique_Days</th>\n",
       "      <th>Accidents_Per_Day</th>\n",
       "    </tr>\n",
       "  </thead>\n",
       "  <tbody>\n",
       "    <tr>\n",
       "      <th>1</th>\n",
       "      <td>Sunny/Clear Conditions</td>\n",
       "      <td>4794</td>\n",
       "      <td>44</td>\n",
       "      <td>108.954545</td>\n",
       "    </tr>\n",
       "    <tr>\n",
       "      <th>0</th>\n",
       "      <td>Snowy Conditions</td>\n",
       "      <td>4298</td>\n",
       "      <td>52</td>\n",
       "      <td>82.653846</td>\n",
       "    </tr>\n",
       "  </tbody>\n",
       "</table>\n",
       "</div>"
      ],
      "text/plain": [
       "                 Category  Total_Accidents  Number_of_Unique_Days  \\\n",
       "1  Sunny/Clear Conditions             4794                     44   \n",
       "0        Snowy Conditions             4298                     52   \n",
       "\n",
       "   Accidents_Per_Day  \n",
       "1         108.954545  \n",
       "0          82.653846  "
      ]
     },
     "execution_count": 127,
     "metadata": {},
     "output_type": "execute_result"
    }
   ],
   "source": [
    "avg_accidents"
   ]
  },
  {
   "cell_type": "markdown",
   "id": "4bf4b0c6",
   "metadata": {},
   "source": [
    "> The final thing I do is create two 'bins' called sunny/clear conditions and snowy conditions. Using the infomation that was stored by merging the datasets together, I was able to calculate an estimate of how many accidents happened per day based on the weather condition. This is only an estimate since at the beginning of the notbook I consolidated down to 100000 recored rather than the original 2 million records that were available."
   ]
  },
  {
   "cell_type": "markdown",
   "id": "d5ca4bf6",
   "metadata": {},
   "source": [
    "### Creating Metrics for Analysis: Accident Severity"
   ]
  },
  {
   "cell_type": "markdown",
   "id": "2dd52e0d",
   "metadata": {},
   "source": [
    "The first thing I will be doing is creating a metrict that shows the severity of the accident. With the dataset that I pulled, I can create a simple metric that uses injuries as a score of 1 and fatalities as a score of 20 since someone dying is much more severe than an injury. Since these entries do no include how severe the injuries are, I will set the score to 1 for simple analysis.\n",
    "\n",
    "> The cells below that are creating the metric for accident severity have the same general layout as the code above that created the average of accidents that happened based on the weather conditions. In this case, I create a severity metric that will measure how severe the accident was."
   ]
  },
  {
   "cell_type": "code",
   "execution_count": 128,
   "id": "d1925cf2",
   "metadata": {},
   "outputs": [],
   "source": [
    "# Creating a severity score\n",
    "merged_df['Severity_Score'] = (\n",
    "    merged_df['NUMBER OF PERSONS INJURED'] * 1 +\n",
    "    merged_df['NUMBER OF PERSONS KILLED'] * 20)"
   ]
  },
  {
   "cell_type": "code",
   "execution_count": 129,
   "id": "d5376536",
   "metadata": {},
   "outputs": [
    {
     "data": {
      "text/plain": [
       "0    1\n",
       "1    0\n",
       "2    0\n",
       "3    0\n",
       "4    2\n",
       "5    0\n",
       "6    0\n",
       "7    0\n",
       "8    0\n",
       "9    0\n",
       "Name: Total_Affected_Persons, dtype: int32"
      ]
     },
     "execution_count": 129,
     "metadata": {},
     "output_type": "execute_result"
    }
   ],
   "source": [
    "# Creates a Total_Affected_Persons column that shows how many were injured or killed in an accident\n",
    "merged_df['Total_Affected_Persons'] = (\n",
    "    merged_df['NUMBER OF PERSONS INJURED'] + \n",
    "    merged_df['NUMBER OF PERSONS KILLED'])\n",
    "\n",
    "merged_df['Total_Affected_Persons'].head(10)"
   ]
  },
  {
   "cell_type": "markdown",
   "id": "1660c74d",
   "metadata": {},
   "source": [
    "> In creating the severity score, I decided to rate all injured people with a score of 1. I did this since the original dataset did not expand no how sever the injury was. It could have been anything from a minor scrape that needed to be reported for insurance reasons, to someone ending up paralyzed or in a coma. Due to this range of possibilities, I stick with the generel 1 rating for the purpose of this notebook. I scored any deaths that occured in the accident with a score of 20. This number can be adjusted however desired as most metrics I found online range a death from anywhere beetween 10-100 on the severity scale."
   ]
  },
  {
   "cell_type": "code",
   "execution_count": 130,
   "id": "9fdea475",
   "metadata": {},
   "outputs": [
    {
     "data": {
      "text/html": [
       "<div>\n",
       "<style scoped>\n",
       "    .dataframe tbody tr th:only-of-type {\n",
       "        vertical-align: middle;\n",
       "    }\n",
       "\n",
       "    .dataframe tbody tr th {\n",
       "        vertical-align: top;\n",
       "    }\n",
       "\n",
       "    .dataframe thead th {\n",
       "        text-align: right;\n",
       "    }\n",
       "</style>\n",
       "<table border=\"1\" class=\"dataframe\">\n",
       "  <thead>\n",
       "    <tr style=\"text-align: right;\">\n",
       "      <th></th>\n",
       "      <th>Average_Severity_Score</th>\n",
       "    </tr>\n",
       "    <tr>\n",
       "      <th>Weather Description</th>\n",
       "      <th></th>\n",
       "    </tr>\n",
       "  </thead>\n",
       "  <tbody>\n",
       "    <tr>\n",
       "      <th>Mainly clear</th>\n",
       "      <td>0.543229</td>\n",
       "    </tr>\n",
       "    <tr>\n",
       "      <th>Drizzle: Light</th>\n",
       "      <td>0.541657</td>\n",
       "    </tr>\n",
       "    <tr>\n",
       "      <th>Partly cloudy</th>\n",
       "      <td>0.539381</td>\n",
       "    </tr>\n",
       "    <tr>\n",
       "      <th>Overcast</th>\n",
       "      <td>0.537177</td>\n",
       "    </tr>\n",
       "    <tr>\n",
       "      <th>Rain: Light</th>\n",
       "      <td>0.537169</td>\n",
       "    </tr>\n",
       "    <tr>\n",
       "      <th>Snow fall: Light</th>\n",
       "      <td>0.535786</td>\n",
       "    </tr>\n",
       "    <tr>\n",
       "      <th>Rain: Heavy</th>\n",
       "      <td>0.527850</td>\n",
       "    </tr>\n",
       "    <tr>\n",
       "      <th>Clear sky</th>\n",
       "      <td>0.526918</td>\n",
       "    </tr>\n",
       "    <tr>\n",
       "      <th>Drizzle: Dense</th>\n",
       "      <td>0.522094</td>\n",
       "    </tr>\n",
       "    <tr>\n",
       "      <th>Rain: Moderate</th>\n",
       "      <td>0.519165</td>\n",
       "    </tr>\n",
       "    <tr>\n",
       "      <th>Drizzle: Moderate</th>\n",
       "      <td>0.507475</td>\n",
       "    </tr>\n",
       "    <tr>\n",
       "      <th>Snow fall: Moderate</th>\n",
       "      <td>0.449285</td>\n",
       "    </tr>\n",
       "    <tr>\n",
       "      <th>Snow fall: Heavy</th>\n",
       "      <td>0.302835</td>\n",
       "    </tr>\n",
       "  </tbody>\n",
       "</table>\n",
       "</div>"
      ],
      "text/plain": [
       "                     Average_Severity_Score\n",
       "Weather Description                        \n",
       "Mainly clear                       0.543229\n",
       "Drizzle: Light                     0.541657\n",
       "Partly cloudy                      0.539381\n",
       "Overcast                           0.537177\n",
       "Rain: Light                        0.537169\n",
       "Snow fall: Light                   0.535786\n",
       "Rain: Heavy                        0.527850\n",
       "Clear sky                          0.526918\n",
       "Drizzle: Dense                     0.522094\n",
       "Rain: Moderate                     0.519165\n",
       "Drizzle: Moderate                  0.507475\n",
       "Snow fall: Moderate                0.449285\n",
       "Snow fall: Heavy                   0.302835"
      ]
     },
     "execution_count": 130,
     "metadata": {},
     "output_type": "execute_result"
    }
   ],
   "source": [
    "# Groups by Weather Description and calculates that average Severity_Score\n",
    "average_severity_by_weather = merged_df.groupby('Weather Description').agg(\n",
    "    Average_Severity_Score=('Severity_Score', 'mean')\n",
    ").sort_values(by='Average_Severity_Score', ascending=False)#Easily shows what condition has highest severity average\n",
    "average_severity_by_weather"
   ]
  },
  {
   "cell_type": "code",
   "execution_count": 131,
   "id": "af0ad88f",
   "metadata": {},
   "outputs": [],
   "source": [
    "merged_df['Weather_Category'] = merged_df['Weather Description'].apply(\n",
    "    lambda x: 'Sunny/Clear Conditions' if x in sunny_weather_types else\n",
    "              ('Snowy Conditions' if x in snowy_weather_types else None)\n",
    ")"
   ]
  },
  {
   "cell_type": "code",
   "execution_count": 132,
   "id": "6271668f",
   "metadata": {},
   "outputs": [
    {
     "data": {
      "text/html": [
       "<div>\n",
       "<style scoped>\n",
       "    .dataframe tbody tr th:only-of-type {\n",
       "        vertical-align: middle;\n",
       "    }\n",
       "\n",
       "    .dataframe tbody tr th {\n",
       "        vertical-align: top;\n",
       "    }\n",
       "\n",
       "    .dataframe thead th {\n",
       "        text-align: right;\n",
       "    }\n",
       "</style>\n",
       "<table border=\"1\" class=\"dataframe\">\n",
       "  <thead>\n",
       "    <tr style=\"text-align: right;\">\n",
       "      <th></th>\n",
       "      <th>Weather_Category</th>\n",
       "      <th>Average_Severity_Score</th>\n",
       "      <th>Total_Accidents</th>\n",
       "    </tr>\n",
       "  </thead>\n",
       "  <tbody>\n",
       "    <tr>\n",
       "      <th>1</th>\n",
       "      <td>Sunny/Clear Conditions</td>\n",
       "      <td>0.538173</td>\n",
       "      <td>4794</td>\n",
       "    </tr>\n",
       "    <tr>\n",
       "      <th>0</th>\n",
       "      <td>Snowy Conditions</td>\n",
       "      <td>0.462773</td>\n",
       "      <td>4298</td>\n",
       "    </tr>\n",
       "  </tbody>\n",
       "</table>\n",
       "</div>"
      ],
      "text/plain": [
       "         Weather_Category  Average_Severity_Score  Total_Accidents\n",
       "1  Sunny/Clear Conditions                0.538173             4794\n",
       "0        Snowy Conditions                0.462773             4298"
      ]
     },
     "execution_count": 132,
     "metadata": {},
     "output_type": "execute_result"
    }
   ],
   "source": [
    "average_severity_combined = merged_df.dropna(subset=['Weather_Category']).groupby('Weather_Category').agg(\n",
    "    Average_Severity_Score=('Severity_Score', 'mean'),\n",
    "    Total_Accidents=('COLLISION_ID', 'count') # Adding total accidents for context in the printout\n",
    ").reset_index().sort_values(by='Average_Severity_Score', ascending=False)\n",
    "\n",
    "average_severity_combined"
   ]
  },
  {
   "cell_type": "markdown",
   "id": "4de12252",
   "metadata": {},
   "source": [
    "## Step 4: Update Data Store"
   ]
  },
  {
   "cell_type": "code",
   "execution_count": 133,
   "id": "d83f72e1",
   "metadata": {},
   "outputs": [],
   "source": [
    "# Creates new CSV file that contains all cleaned and prepared data for analysis\n",
    "merged_df.to_csv('cleaned_and_merged_data.csv', index=True)"
   ]
  },
  {
   "cell_type": "markdown",
   "id": "dea63bf1",
   "metadata": {},
   "source": [
    "## Step 5: Analysis"
   ]
  },
  {
   "cell_type": "markdown",
   "id": "c3486797",
   "metadata": {},
   "source": [
    "### Research Question"
   ]
  },
  {
   "cell_type": "markdown",
   "id": "4f8d8132",
   "metadata": {},
   "source": [
    "Do more accidents occur and with a higher severity during snowy/partly snowy weather or during clear sunny weather?"
   ]
  },
  {
   "cell_type": "code",
   "execution_count": 134,
   "id": "0175dcc8",
   "metadata": {},
   "outputs": [
    {
     "name": "stderr",
     "output_type": "stream",
     "text": [
      "C:\\Users\\rharv\\AppData\\Local\\Temp\\ipykernel_21412\\4011250175.py:3: FutureWarning: \n",
      "\n",
      "Passing `palette` without assigning `hue` is deprecated and will be removed in v0.14.0. Assign the `x` variable to `hue` and set `legend=False` for the same effect.\n",
      "\n",
      "  sns.barplot(\n"
     ]
    },
    {
     "data": {
      "image/png": "[encoded data removed]",
      "text/plain": [
       "<Figure size 800x600 with 1 Axes>"
      ]
     },
     "metadata": {},
     "output_type": "display_data"
    }
   ],
   "source": [
    "#Creates a bar plot to visualize findings\n",
    "plt.figure(figsize=(8, 6))\n",
    "sns.barplot(\n",
    "    x='Category',\n",
    "    y='Accidents_Per_Day',\n",
    "    data=avg_accidents,\n",
    "    palette=['lightcoral', 'skyblue'] # Order based on which is higher value for visual clarity\n",
    ")\n",
    "plt.title('Average Accidents Per Day: Combined Sunny/Clear vs. Snowy', fontsize=16)\n",
    "plt.xlabel('Weather Category', fontsize=12)\n",
    "plt.ylabel('Average Accidents Per Day', fontsize=12)\n",
    "plt.xticks(rotation=0, ha='center', fontsize=10)\n",
    "plt.yticks(fontsize=10)\n",
    "plt.grid(axis='y', linestyle='--', alpha=0.7)\n",
    "plt.tight_layout()\n",
    "plt.show()"
   ]
  },
  {
   "cell_type": "markdown",
   "id": "44a68053",
   "metadata": {},
   "source": [
    "> Answer to research question: As shown using the visual above, it seems that more accidents in fact happen when the weather condition is sunny and clear rather than when conditions are snowy. Going into this project, I was under the assumption that snowy weather conditions would cause more accidents on the roads. After looking at this visual and seeing on average that this is not the case it does raise some more questions that can be investigated in the future."
   ]
  },
  {
   "cell_type": "markdown",
   "id": "a4c6b4bb",
   "metadata": {},
   "source": [
    "The next thing I will be looking into is the crash severity average in certain weather conditions"
   ]
  },
  {
   "cell_type": "code",
   "execution_count": 135,
   "id": "e3c1630a",
   "metadata": {},
   "outputs": [
    {
     "name": "stderr",
     "output_type": "stream",
     "text": [
      "C:\\Users\\rharv\\AppData\\Local\\Temp\\ipykernel_21412\\3722638141.py:3: FutureWarning: \n",
      "\n",
      "Passing `palette` without assigning `hue` is deprecated and will be removed in v0.14.0. Assign the `x` variable to `hue` and set `legend=False` for the same effect.\n",
      "\n",
      "  sns.barplot(\n"
     ]
    },
    {
     "data": {
      "image/png": "[encoded data removed]",
      "text/plain": [
       "<Figure size 800x600 with 1 Axes>"
      ]
     },
     "metadata": {},
     "output_type": "display_data"
    }
   ],
   "source": [
    "# Creates a visual using the severity metric created earlier\n",
    "plt.figure(figsize=(8, 6)) # A compact figure size as there are only two bars\n",
    "sns.barplot(\n",
    "    x='Weather_Category',\n",
    "    y='Average_Severity_Score',\n",
    "    data=average_severity_combined,\n",
    "    # Assign specific colors for clarity: red for snowy, blue for clear\n",
    "    palette=['lightcoral', 'skyblue']\n",
    ")\n",
    "plt.title('Average Accident Severity Score: Sunny/Clear vs. Snowy Conditions', fontsize=14)\n",
    "plt.xlabel('Weather Category', fontsize=12)\n",
    "plt.ylabel('Average Severity Score (Higher = More Severe)', fontsize=12)\n",
    "plt.xticks(rotation=0, ha='center', fontsize=10) # Keep labels horizontal\n",
    "plt.yticks(fontsize=10)\n",
    "plt.grid(axis='y', linestyle='--', alpha=0.7) # Add a grid for easier value comparison\n",
    "plt.tight_layout() # Adjust layout to prevent labels from being cut off\n",
    "plt.show()"
   ]
  },
  {
   "cell_type": "markdown",
   "id": "5f08e502",
   "metadata": {},
   "source": [
    "> Answer to research question: Looking at this visual it appears that the most severe accidents tend to happen in sunny/clear weather. The difference between the two is quite close. The reason for this could be that in snowy conditions, accidents tend to be a car sliding on ice or slush and causing a minor accident with no injuries. To gain more insight as to why the data points towards this conclusion, more investigating would need to be perfomed before any meaninful reasonings could be extracted."
   ]
  }
 ],
 "metadata": {
  "kernelspec": {
   "display_name": "base",
   "language": "python",
   "name": "python3"
  },
  "language_info": {
   "codemirror_mode": {
    "name": "ipython",
    "version": 3
   },
   "file_extension": ".py",
   "mimetype": "text/x-python",
   "name": "python",
   "nbconvert_exporter": "python",
   "pygments_lexer": "ipython3",
   "version": "3.12.7"
  }
 },
 "nbformat": 4,
 "nbformat_minor": 5
}
