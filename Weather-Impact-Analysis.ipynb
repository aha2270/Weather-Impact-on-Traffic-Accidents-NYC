{
 "cells": [
  {
   "cell_type": "markdown",
   "id": "e8624b6b",
   "metadata": {},
   "source": [
    "# Weather Impact on Traffic Accidents"
   ]
  },
  {
   "cell_type": "markdown",
   "id": "0e9c20ec",
   "metadata": {},
   "source": [
    "## Problem Statement\n",
    "For this project, I aim to determine if inclement weather causes more frequent and severe accidents compared to clear and sunny weather. Understanding this relationship can inform public safety campaigns, resource allocation for emergency services, and urban planning initiatives aimed at improving road safety during poor weather conditions. \n"
   ]
  },
  {
   "cell_type": "markdown",
   "id": "a54e2cc5",
   "metadata": {},
   "source": [
    "## Step 1: Gather Data\n",
    "\n",
    "### Dataset 1:\n",
    "\n",
    "I will be utilizing the \"Motor Vehicle Collisions - Crashes\" dataset because it provides comprehensive historical data on motor vehicle accidents in New York City. Its detailed records, including crash dates and locations, are essential for correlating accident occurrences with specific weather conditions. This dataset's breadth allows for an in-depth analysis of both the frequency and severity of collisions across the city.\n",
    "\n",
    "Dataset Type: CSV\n",
    "\n",
    "Data Wrangling Method: The data is gathered by programmatically downloading files from the NYC Open Data Portal\n",
    "\n",
    "Dataset variables that will be used:\n",
    "\n",
    " - **CRASH DATE**: Date the collision occured\n",
    " - **CRASH TIME**: Time the collision occured\n",
    " - **LATITUDE**: Latitude coordinate of the collision\n",
    " - **LONGITUDE**: Longitude coordinate of the collision\n",
    " - **NUMBER OF PERSONS INJURED**: Amount of total injuries in collision\n",
    " - **NUMBER OF PERSONS KILLED**: Amount of total fatalities in collision\n",
    " - **COLLISION_ID**: Unique identifier for the collision\n"
   ]
  },
  {
   "cell_type": "code",
   "execution_count": 1,
   "id": "0f1682df",
   "metadata": {},
   "outputs": [],
   "source": [
    "# Imports required for workbook\n",
    "import pandas as pd\n",
    "import numpy as np\n",
    "import requests\n",
    "from datetime import datetime, timedelta\n",
    "import matplotlib.pyplot as plt\n",
    "import seaborn as sns\n"
   ]
  },
  {
   "cell_type": "code",
   "execution_count": null,
   "id": "85fff291",
   "metadata": {},
   "outputs": [
    {
     "name": "stdout",
     "output_type": "stream",
     "text": [
      "Reading the first 100,000 records from https://data.cityofnewyork.us/api/views/h9gi-nx95/rows.csv?accessType=DOWNLOAD...\n"
     ]
    }
   ],
   "source": [
    "# Load in first dataset\n",
    "\n",
    "# URL for the CSV version of the dataset\n",
    "csv_url = \"https://data.cityofnewyork.us/api/views/h9gi-nx95/rows.csv?accessType=DOWNLOAD\"\n",
    "\n",
    "# Defines a filename to save the dataset to\n",
    "file_name = \"motor_vehicle_collisions_subset.csv\"\n",
    "\n",
    "try:\n",
    "    # Use pandas to read a limited number of rows directly from the URL.\n",
    "    # The `nrows` parameter is key to grabbing only a small chunk of the data,\n",
    "    # avoiding the large file size issue.\n",
    "    print(f\"Reading the first 100,000 records from {csv_url}...\")\n",
    "    motor_accident_df = pd.read_csv(csv_url, nrows=100000)\n",
    "    \n",
    "    # Save the smaller DataFrame to a new CSV file\n",
    "    motor_accident_df.to_csv(file_name, index=False)\n",
    "    print(f\"Successfully created a subset and saved it to {file_name}\")\n",
    "\n",
    "    # Display the number of rows to confirm the result\n",
    "    print(f\"The DataFrame now contains {len(motor_accident_df)} rows.\")\n",
    "\n",
    "except requests.exceptions.RequestException as e:\n",
    "    print(f\"Error accessing the data URL: {e}\")\n",
    "except Exception as e:\n",
    "    print(f\"An error occurred: {e}\")\n"
   ]
  },
  {
   "cell_type": "code",
   "execution_count": null,
   "id": "99753b01",
   "metadata": {},
   "outputs": [],
   "source": [
    "motor_accident_df.info()"
   ]
  },
  {
   "cell_type": "markdown",
   "id": "b4c5c8db",
   "metadata": {},
   "source": []
  }
 ],
 "metadata": {
  "kernelspec": {
   "display_name": "base",
   "language": "python",
   "name": "python3"
  },
  "language_info": {
   "codemirror_mode": {
    "name": "ipython",
    "version": 3
   },
   "file_extension": ".py",
   "mimetype": "text/x-python",
   "name": "python",
   "nbconvert_exporter": "python",
   "pygments_lexer": "ipython3",
   "version": "3.12.7"
  }
 },
 "nbformat": 4,
 "nbformat_minor": 5
}
