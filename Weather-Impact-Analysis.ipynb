{
 "cells": [
  {
   "cell_type": "markdown",
   "id": "e8624b6b",
   "metadata": {},
   "source": [
    "# Weather Impact on Traffic Accidents"
   ]
  },
  {
   "cell_type": "markdown",
   "id": "0e9c20ec",
   "metadata": {},
   "source": [
    "## Problem Statement\n",
    "For this project, I aim to determine if inclement weather causes more frequent and severe accidents compared to clear and sunny weather. Understanding this relationship can inform public safety campaigns, resource allocation for emergency services, and urban planning initiatives aimed at improving road safety during poor weather conditions. \n"
   ]
  },
  {
   "cell_type": "markdown",
   "id": "a54e2cc5",
   "metadata": {},
   "source": [
    "## Step 1: Gather Data\n",
    "\n",
    "### Dataset 1:\n",
    "\n",
    "I will be utilizing the \"Motor Vehicle Collisions - Crashes\" dataset because it provides comprehensive historical data on motor vehicle accidents in New York City. Its detailed records, including crash dates and locations, are essential for correlating accident occurrences with specific weather conditions. This dataset's breadth allows for an in-depth analysis of both the frequency and severity of collisions across the city.\n",
    "\n",
    "Dataset Type: CSV\n",
    "\n",
    "Data Wrangling Method: The data is gathered by programmatically downloading files from the NYC Open Data Portal\n",
    "\n",
    "Dataset variables that will be used:\n",
    "\n",
    " - **CRASH DATE**: Date the collision occured\n",
    " - **CRASH TIME**: Time the collision occured\n",
    " - **LATITUDE**: Latitude coordinate of the collision\n",
    " - **LONGITUDE**: Longitude coordinate of the collision\n",
    " - **NUMBER OF PERSONS INJURED**: Amount of total injuries in collision\n",
    " - **NUMBER OF PERSONS KILLED**: Amount of total fatalities in collision\n",
    " - **COLLISION_ID**: Unique identifier for the collision\n"
   ]
  },
  {
   "cell_type": "code",
   "execution_count": 1,
   "id": "0f1682df",
   "metadata": {},
   "outputs": [],
   "source": [
    "# Imports required for workbook\n",
    "import pandas as pd\n",
    "import numpy as np\n",
    "import requests\n",
    "from datetime import datetime, timedelta\n",
    "import matplotlib.pyplot as plt\n",
    "import seaborn as sns\n"
   ]
  },
  {
   "cell_type": "code",
   "execution_count": 2,
   "id": "85fff291",
   "metadata": {},
   "outputs": [
    {
     "name": "stdout",
     "output_type": "stream",
     "text": [
      "Reading the first 100,000 records from https://data.cityofnewyork.us/api/views/h9gi-nx95/rows.csv?accessType=DOWNLOAD...\n",
      "Successfully created a subset and saved it to motor_vehicle_collisions_subset.csv\n",
      "The DataFrame now contains 100000 rows.\n"
     ]
    }
   ],
   "source": [
    "# Load in first dataset\n",
    "\n",
    "# URL for the CSV version of the dataset\n",
    "csv_url = \"https://data.cityofnewyork.us/api/views/h9gi-nx95/rows.csv?accessType=DOWNLOAD\"\n",
    "\n",
    "# Defines a filename to save the dataset to\n",
    "file_name = \"motor_vehicle_collisions_subset.csv\"\n",
    "\n",
    "try:\n",
    "    # Use pandas to read a limited number of rows directly from the URL.\n",
    "    # The `nrows` parameter is key to grabbing only a small chunk of the data,\n",
    "    # avoiding the large file size issue.\n",
    "    print(f\"Reading the first 100,000 records from {csv_url}...\")\n",
    "    motor_accident_df = pd.read_csv(csv_url, nrows=100000)\n",
    "    \n",
    "    # Save the smaller DataFrame to a new CSV file\n",
    "    motor_accident_df.to_csv(file_name, index=False)\n",
    "    print(f\"Successfully created a subset and saved it to {file_name}\")\n",
    "\n",
    "    # Display the number of rows to confirm the result\n",
    "    print(f\"The DataFrame now contains {len(motor_accident_df)} rows.\")\n",
    "\n",
    "except requests.exceptions.RequestException as e:\n",
    "    print(f\"Error accessing the data URL: {e}\")\n",
    "except Exception as e:\n",
    "    print(f\"An error occurred: {e}\")\n"
   ]
  },
  {
   "cell_type": "markdown",
   "id": "b4c5c8db",
   "metadata": {},
   "source": []
  },
  {
   "cell_type": "markdown",
   "id": "8de43f19",
   "metadata": {},
   "source": [
    "### Dataset 2:\n",
    "\n",
    "I will be utilizing the Open-Meteo Historical Weather API dataset for its comprehensive and freely accessible historical weather data, which is curcial for identifying correlations with past motor vehicle collisions. It contains detailed daily weather variables (like temperature, precipitation, and wind) for specific geographical coordinates and extensive date ranges. This will allow for a robust investigation into how different weather conditions might influence accident frequency and severity in New York City.\n",
    "\n",
    "Dataset Type: JSON\n",
    "\n",
    "Data Wrangling Method: The data is gathered by utilizing the Open-Meteo Historical Weather API\n",
    "\n",
    "Dataset variables that will be used:\n",
    "\n",
    "*    **time:** Date the weather data was recorded\n",
    "*    **temperature_2m_max:** Maximum daily air temperature 2 meters above ground\n",
    "*    **temperature_2m_min:** Minimum daily air temperature 2 meters above ground\n",
    "*    **precipitation_sum:** Total daily sum of precipitation\n",
    "*    **rain_sum:** Total daily sum of rain only\n",
    "*    **snowfall_sum:** Total daily sum of snow only\n",
    "*    **precipitation_hours:** Number of hours with any type of precipitation on that day\n",
    "*    **weather_code:** Numerical code that summarizes the overall daily weather condition\n",
    "*    **wind_speed_10m_max:** Maximum daily wind speed 10 meters above ground\n",
    "*    **wind_gusts_10m_max:** Maximum daily wind gust (sudden, brief increase in wind speed) at 10 meters above ground\n",
    "*    **wind_direction_10m_dominant:** Dominant daily wind direction 10 meters above ground\n"
   ]
  },
  {
   "cell_type": "markdown",
   "id": "d1f81a0c",
   "metadata": {},
   "source": [
    "> The first thing I do is create a function called **get_open_meteo_historical_weather** that takes in latitude, longitude, start_date, end_date, and daily_variables which is set to **None** initially to make the parameter optional and allow the function to define a fresh default list of variables if the caller doesnt provide the function a list of desired daily_variables"
   ]
  },
  {
   "cell_type": "code",
   "execution_count": 4,
   "id": "2523b97f",
   "metadata": {},
   "outputs": [],
   "source": [
    "def get_open_meteo_historical_weather(latitude, longitude, start_date, end_date, daily_variables=None):\n",
    "\n",
    "    base_url = \"https://archive-api.open-meteo.com/v1/archive\"\n",
    "\n",
    "    # If no daily_variable is provided by caller, the function sets this to grab useful weather data\n",
    "    if daily_variables is None:\n",
    "        daily_variables = [\n",
    "            \"temperature_2m_max\",\n",
    "            \"temperature_2m_min\",\n",
    "            \"precipitation_sum\",\n",
    "            \"rain_sum\",\n",
    "            \"snowfall_sum\",\n",
    "            \"precipitation_hours\",\n",
    "            \"weather_code\",\n",
    "            \"wind_speed_10m_max\",\n",
    "            \"wind_gusts_10m_max\",\n",
    "            \"wind_direction_10m_dominant\"\n",
    "        ]\n",
    "\n",
    "    # Sets parameters to be used using the information entered into function\n",
    "    params = {\n",
    "        \"latitude\": latitude,\n",
    "        \"longitude\": longitude,\n",
    "        \"start_date\": start_date,\n",
    "        \"end_date\": end_date,\n",
    "        \"daily\": \",\".join(daily_variables),\n",
    "        \"timezone\": \"America/New_York\" # Set timezone for accurate day boundaries\n",
    "    }   \n",
    "\n",
    "    print(f\"Fetching weather data for {start_date} to {end_date} at Lat: {latitude}, Lon: {longitude}\")\n",
    "\n",
    "    try: \n",
    "\n",
    "        # Sends a request to the url and stores the information retrieved in response variable\n",
    "        response = requests.get(base_url, params=params)\n",
    "\n",
    "        # Raises an HTTPError for bad responses (4XX or 5XX Codes)\n",
    "        response.raise_for_status()\n",
    "        data = response.json()\n",
    "\n",
    "        # Checks to see if the API response contains the key 'daily'\n",
    "        if \"daily\" in data:\n",
    "\n",
    "            # Extracts value associated with the 'daily' key\n",
    "            daily_data = data['daily']\n",
    "\n",
    "            # Converts daily_data dictionary inro a Pandas DataFrame\n",
    "            weather_data_df = pd.DataFrame(daily_data)\n",
    "\n",
    "            return weather_data_df\n",
    "        \n",
    "        else:\n",
    "\n",
    "            # Print response for debugging if the 'daily' ket is not found\n",
    "            print(\"No 'daily' data found in the API response. Check parameters or date range\")\n",
    "            print(\"API Response:\", data)\n",
    "            return None\n",
    "        \n",
    "    except requests.exceptions.RequestException as e:\n",
    "        print(f\"Error fetching data from Open-Meteo API: {e}\")\n",
    "        return None\n",
    "    except Exception as e:\n",
    "        print(f\"An unexpected error occured: {e}\")\n",
    "        return None\n"
   ]
  },
  {
   "cell_type": "code",
   "execution_count": 5,
   "id": "c7689870",
   "metadata": {},
   "outputs": [
    {
     "name": "stdout",
     "output_type": "stream",
     "text": [
      "Fetching weather data for 2012-07-01 to 2025-05-28 at Lat: 40.7831, Lon: -73.9712\n",
      "NYC historical weather data has been successfully retrieved\n"
     ]
    }
   ],
   "source": [
    "# Load in dataset 2\n",
    "# Coordinates for Central Park, NYC (approximate)\n",
    "nyc_latitude = 40.7831\n",
    "nyc_longitude = -73.9712\n",
    "\n",
    "# Sets a desired data range to compare to motor collision dataset\n",
    "start_date = \"2012-07-01\"\n",
    "end_date = \"2025-05-28\"\n",
    "\n",
    "# Fetch the data using the created function\n",
    "nyc_weather_df = get_open_meteo_historical_weather(\n",
    "    nyc_latitude,\n",
    "    nyc_longitude,\n",
    "    start_date,\n",
    "    end_date\n",
    ")\n",
    "\n",
    "# Prints messsage stating if data was retrieved or not and stores file in CSV file once obtained\n",
    "if nyc_weather_df is not None:\n",
    "    print(\"NYC historical weather data has been successfully retrieved\")\n",
    "\n",
    "    # Defines the gile name for weather data CSV\n",
    "    weather_file_name = \"nyc_historical_weather.csv\"\n",
    "\n",
    "    # Converts file to CSV\n",
    "    nyc_weather_df.to_csv(weather_file_name, index=True)\n",
    "else:\n",
    "    print(\"Failed to retrieve NYC historcal weather data.\")\n"
   ]
  },
  {
   "cell_type": "markdown",
   "id": "9d2a45b0",
   "metadata": {},
   "source": [
    "## Step 2: Assess Data"
   ]
  },
  {
   "cell_type": "markdown",
   "id": "43ad8d3f",
   "metadata": {},
   "source": [
    "> I first perform basic data inspection using the .info() and .head() funcitons to get an idea of what the data looks like in my datasets."
   ]
  },
  {
   "cell_type": "code",
   "execution_count": 3,
   "id": "99753b01",
   "metadata": {},
   "outputs": [
    {
     "name": "stdout",
     "output_type": "stream",
     "text": [
      "<class 'pandas.core.frame.DataFrame'>\n",
      "RangeIndex: 100000 entries, 0 to 99999\n",
      "Data columns (total 29 columns):\n",
      " #   Column                         Non-Null Count   Dtype  \n",
      "---  ------                         --------------   -----  \n",
      " 0   CRASH DATE                     100000 non-null  object \n",
      " 1   CRASH TIME                     100000 non-null  object \n",
      " 2   BOROUGH                        65611 non-null   object \n",
      " 3   ZIP CODE                       65600 non-null   float64\n",
      " 4   LATITUDE                       92061 non-null   float64\n",
      " 5   LONGITUDE                      92061 non-null   float64\n",
      " 6   LOCATION                       92061 non-null   object \n",
      " 7   ON STREET NAME                 72876 non-null   object \n",
      " 8   CROSS STREET NAME              46361 non-null   object \n",
      " 9   OFF STREET NAME                27123 non-null   object \n",
      " 10  NUMBER OF PERSONS INJURED      100000 non-null  int64  \n",
      " 11  NUMBER OF PERSONS KILLED       100000 non-null  int64  \n",
      " 12  NUMBER OF PEDESTRIANS INJURED  100000 non-null  int64  \n",
      " 13  NUMBER OF PEDESTRIANS KILLED   100000 non-null  int64  \n",
      " 14  NUMBER OF CYCLIST INJURED      100000 non-null  int64  \n",
      " 15  NUMBER OF CYCLIST KILLED       100000 non-null  int64  \n",
      " 16  NUMBER OF MOTORIST INJURED     100000 non-null  int64  \n",
      " 17  NUMBER OF MOTORIST KILLED      100000 non-null  int64  \n",
      " 18  CONTRIBUTING FACTOR VEHICLE 1  99497 non-null   object \n",
      " 19  CONTRIBUTING FACTOR VEHICLE 2  77401 non-null   object \n",
      " 20  CONTRIBUTING FACTOR VEHICLE 3  10302 non-null   object \n",
      " 21  CONTRIBUTING FACTOR VEHICLE 4  2780 non-null    object \n",
      " 22  CONTRIBUTING FACTOR VEHICLE 5  847 non-null     object \n",
      " 23  COLLISION_ID                   100000 non-null  int64  \n",
      " 24  VEHICLE TYPE CODE 1            98805 non-null   object \n",
      " 25  VEHICLE TYPE CODE 2            66720 non-null   object \n",
      " 26  VEHICLE TYPE CODE 3            9547 non-null    object \n",
      " 27  VEHICLE TYPE CODE 4            2623 non-null    object \n",
      " 28  VEHICLE TYPE CODE 5            816 non-null     object \n",
      "dtypes: float64(3), int64(9), object(17)\n",
      "memory usage: 22.1+ MB\n"
     ]
    }
   ],
   "source": [
    "motor_accident_df.info()"
   ]
  },
  {
   "cell_type": "code",
   "execution_count": 9,
   "id": "efa763d2",
   "metadata": {},
   "outputs": [
    {
     "data": {
      "text/html": [
       "<div>\n",
       "<style scoped>\n",
       "    .dataframe tbody tr th:only-of-type {\n",
       "        vertical-align: middle;\n",
       "    }\n",
       "\n",
       "    .dataframe tbody tr th {\n",
       "        vertical-align: top;\n",
       "    }\n",
       "\n",
       "    .dataframe thead th {\n",
       "        text-align: right;\n",
       "    }\n",
       "</style>\n",
       "<table border=\"1\" class=\"dataframe\">\n",
       "  <thead>\n",
       "    <tr style=\"text-align: right;\">\n",
       "      <th></th>\n",
       "      <th>CRASH DATE</th>\n",
       "      <th>CRASH TIME</th>\n",
       "      <th>BOROUGH</th>\n",
       "      <th>ZIP CODE</th>\n",
       "      <th>LATITUDE</th>\n",
       "      <th>LONGITUDE</th>\n",
       "      <th>LOCATION</th>\n",
       "      <th>ON STREET NAME</th>\n",
       "      <th>CROSS STREET NAME</th>\n",
       "      <th>OFF STREET NAME</th>\n",
       "      <th>...</th>\n",
       "      <th>CONTRIBUTING FACTOR VEHICLE 2</th>\n",
       "      <th>CONTRIBUTING FACTOR VEHICLE 3</th>\n",
       "      <th>CONTRIBUTING FACTOR VEHICLE 4</th>\n",
       "      <th>CONTRIBUTING FACTOR VEHICLE 5</th>\n",
       "      <th>COLLISION_ID</th>\n",
       "      <th>VEHICLE TYPE CODE 1</th>\n",
       "      <th>VEHICLE TYPE CODE 2</th>\n",
       "      <th>VEHICLE TYPE CODE 3</th>\n",
       "      <th>VEHICLE TYPE CODE 4</th>\n",
       "      <th>VEHICLE TYPE CODE 5</th>\n",
       "    </tr>\n",
       "  </thead>\n",
       "  <tbody>\n",
       "    <tr>\n",
       "      <th>0</th>\n",
       "      <td>09/11/2021</td>\n",
       "      <td>2:39</td>\n",
       "      <td>NaN</td>\n",
       "      <td>NaN</td>\n",
       "      <td>NaN</td>\n",
       "      <td>NaN</td>\n",
       "      <td>NaN</td>\n",
       "      <td>WHITESTONE EXPRESSWAY</td>\n",
       "      <td>20 AVENUE</td>\n",
       "      <td>NaN</td>\n",
       "      <td>...</td>\n",
       "      <td>Unspecified</td>\n",
       "      <td>NaN</td>\n",
       "      <td>NaN</td>\n",
       "      <td>NaN</td>\n",
       "      <td>4455765</td>\n",
       "      <td>Sedan</td>\n",
       "      <td>Sedan</td>\n",
       "      <td>NaN</td>\n",
       "      <td>NaN</td>\n",
       "      <td>NaN</td>\n",
       "    </tr>\n",
       "    <tr>\n",
       "      <th>1</th>\n",
       "      <td>03/26/2022</td>\n",
       "      <td>11:45</td>\n",
       "      <td>NaN</td>\n",
       "      <td>NaN</td>\n",
       "      <td>NaN</td>\n",
       "      <td>NaN</td>\n",
       "      <td>NaN</td>\n",
       "      <td>QUEENSBORO BRIDGE UPPER</td>\n",
       "      <td>NaN</td>\n",
       "      <td>NaN</td>\n",
       "      <td>...</td>\n",
       "      <td>NaN</td>\n",
       "      <td>NaN</td>\n",
       "      <td>NaN</td>\n",
       "      <td>NaN</td>\n",
       "      <td>4513547</td>\n",
       "      <td>Sedan</td>\n",
       "      <td>NaN</td>\n",
       "      <td>NaN</td>\n",
       "      <td>NaN</td>\n",
       "      <td>NaN</td>\n",
       "    </tr>\n",
       "    <tr>\n",
       "      <th>2</th>\n",
       "      <td>11/01/2023</td>\n",
       "      <td>1:29</td>\n",
       "      <td>BROOKLYN</td>\n",
       "      <td>11230.0</td>\n",
       "      <td>40.62179</td>\n",
       "      <td>-73.970024</td>\n",
       "      <td>(40.62179, -73.970024)</td>\n",
       "      <td>OCEAN PARKWAY</td>\n",
       "      <td>AVENUE K</td>\n",
       "      <td>NaN</td>\n",
       "      <td>...</td>\n",
       "      <td>Unspecified</td>\n",
       "      <td>Unspecified</td>\n",
       "      <td>NaN</td>\n",
       "      <td>NaN</td>\n",
       "      <td>4675373</td>\n",
       "      <td>Moped</td>\n",
       "      <td>Sedan</td>\n",
       "      <td>Sedan</td>\n",
       "      <td>NaN</td>\n",
       "      <td>NaN</td>\n",
       "    </tr>\n",
       "    <tr>\n",
       "      <th>3</th>\n",
       "      <td>06/29/2022</td>\n",
       "      <td>6:55</td>\n",
       "      <td>NaN</td>\n",
       "      <td>NaN</td>\n",
       "      <td>NaN</td>\n",
       "      <td>NaN</td>\n",
       "      <td>NaN</td>\n",
       "      <td>THROGS NECK BRIDGE</td>\n",
       "      <td>NaN</td>\n",
       "      <td>NaN</td>\n",
       "      <td>...</td>\n",
       "      <td>Unspecified</td>\n",
       "      <td>NaN</td>\n",
       "      <td>NaN</td>\n",
       "      <td>NaN</td>\n",
       "      <td>4541903</td>\n",
       "      <td>Sedan</td>\n",
       "      <td>Pick-up Truck</td>\n",
       "      <td>NaN</td>\n",
       "      <td>NaN</td>\n",
       "      <td>NaN</td>\n",
       "    </tr>\n",
       "    <tr>\n",
       "      <th>4</th>\n",
       "      <td>09/21/2022</td>\n",
       "      <td>13:21</td>\n",
       "      <td>NaN</td>\n",
       "      <td>NaN</td>\n",
       "      <td>NaN</td>\n",
       "      <td>NaN</td>\n",
       "      <td>NaN</td>\n",
       "      <td>BROOKLYN BRIDGE</td>\n",
       "      <td>NaN</td>\n",
       "      <td>NaN</td>\n",
       "      <td>...</td>\n",
       "      <td>Unspecified</td>\n",
       "      <td>NaN</td>\n",
       "      <td>NaN</td>\n",
       "      <td>NaN</td>\n",
       "      <td>4566131</td>\n",
       "      <td>Station Wagon/Sport Utility Vehicle</td>\n",
       "      <td>NaN</td>\n",
       "      <td>NaN</td>\n",
       "      <td>NaN</td>\n",
       "      <td>NaN</td>\n",
       "    </tr>\n",
       "  </tbody>\n",
       "</table>\n",
       "<p>5 rows × 29 columns</p>\n",
       "</div>"
      ],
      "text/plain": [
       "   CRASH DATE CRASH TIME   BOROUGH  ZIP CODE  LATITUDE  LONGITUDE  \\\n",
       "0  09/11/2021       2:39       NaN       NaN       NaN        NaN   \n",
       "1  03/26/2022      11:45       NaN       NaN       NaN        NaN   \n",
       "2  11/01/2023       1:29  BROOKLYN   11230.0  40.62179 -73.970024   \n",
       "3  06/29/2022       6:55       NaN       NaN       NaN        NaN   \n",
       "4  09/21/2022      13:21       NaN       NaN       NaN        NaN   \n",
       "\n",
       "                 LOCATION           ON STREET NAME CROSS STREET NAME  \\\n",
       "0                     NaN    WHITESTONE EXPRESSWAY         20 AVENUE   \n",
       "1                     NaN  QUEENSBORO BRIDGE UPPER               NaN   \n",
       "2  (40.62179, -73.970024)            OCEAN PARKWAY          AVENUE K   \n",
       "3                     NaN       THROGS NECK BRIDGE               NaN   \n",
       "4                     NaN          BROOKLYN BRIDGE               NaN   \n",
       "\n",
       "  OFF STREET NAME  ...  CONTRIBUTING FACTOR VEHICLE 2  \\\n",
       "0             NaN  ...                    Unspecified   \n",
       "1             NaN  ...                            NaN   \n",
       "2             NaN  ...                    Unspecified   \n",
       "3             NaN  ...                    Unspecified   \n",
       "4             NaN  ...                    Unspecified   \n",
       "\n",
       "   CONTRIBUTING FACTOR VEHICLE 3  CONTRIBUTING FACTOR VEHICLE 4  \\\n",
       "0                            NaN                            NaN   \n",
       "1                            NaN                            NaN   \n",
       "2                    Unspecified                            NaN   \n",
       "3                            NaN                            NaN   \n",
       "4                            NaN                            NaN   \n",
       "\n",
       "   CONTRIBUTING FACTOR VEHICLE 5  COLLISION_ID  \\\n",
       "0                            NaN       4455765   \n",
       "1                            NaN       4513547   \n",
       "2                            NaN       4675373   \n",
       "3                            NaN       4541903   \n",
       "4                            NaN       4566131   \n",
       "\n",
       "                   VEHICLE TYPE CODE 1  VEHICLE TYPE CODE 2  \\\n",
       "0                                Sedan                Sedan   \n",
       "1                                Sedan                  NaN   \n",
       "2                                Moped                Sedan   \n",
       "3                                Sedan        Pick-up Truck   \n",
       "4  Station Wagon/Sport Utility Vehicle                  NaN   \n",
       "\n",
       "   VEHICLE TYPE CODE 3 VEHICLE TYPE CODE 4 VEHICLE TYPE CODE 5  \n",
       "0                  NaN                 NaN                 NaN  \n",
       "1                  NaN                 NaN                 NaN  \n",
       "2                Sedan                 NaN                 NaN  \n",
       "3                  NaN                 NaN                 NaN  \n",
       "4                  NaN                 NaN                 NaN  \n",
       "\n",
       "[5 rows x 29 columns]"
      ]
     },
     "execution_count": 9,
     "metadata": {},
     "output_type": "execute_result"
    }
   ],
   "source": [
    "motor_accident_df.head()"
   ]
  },
  {
   "cell_type": "code",
   "execution_count": 6,
   "id": "038c90fa",
   "metadata": {},
   "outputs": [
    {
     "name": "stdout",
     "output_type": "stream",
     "text": [
      "<class 'pandas.core.frame.DataFrame'>\n",
      "RangeIndex: 4715 entries, 0 to 4714\n",
      "Data columns (total 11 columns):\n",
      " #   Column                       Non-Null Count  Dtype  \n",
      "---  ------                       --------------  -----  \n",
      " 0   time                         4715 non-null   object \n",
      " 1   temperature_2m_max           4715 non-null   float64\n",
      " 2   temperature_2m_min           4715 non-null   float64\n",
      " 3   precipitation_sum            4715 non-null   float64\n",
      " 4   rain_sum                     4715 non-null   float64\n",
      " 5   snowfall_sum                 4715 non-null   float64\n",
      " 6   precipitation_hours          4715 non-null   float64\n",
      " 7   weather_code                 4715 non-null   int64  \n",
      " 8   wind_speed_10m_max           4715 non-null   float64\n",
      " 9   wind_gusts_10m_max           4715 non-null   float64\n",
      " 10  wind_direction_10m_dominant  4715 non-null   int64  \n",
      "dtypes: float64(8), int64(2), object(1)\n",
      "memory usage: 405.3+ KB\n"
     ]
    }
   ],
   "source": [
    "nyc_weather_df.info()"
   ]
  },
  {
   "cell_type": "code",
   "execution_count": 10,
   "id": "aa0809b6",
   "metadata": {},
   "outputs": [
    {
     "data": {
      "text/html": [
       "<div>\n",
       "<style scoped>\n",
       "    .dataframe tbody tr th:only-of-type {\n",
       "        vertical-align: middle;\n",
       "    }\n",
       "\n",
       "    .dataframe tbody tr th {\n",
       "        vertical-align: top;\n",
       "    }\n",
       "\n",
       "    .dataframe thead th {\n",
       "        text-align: right;\n",
       "    }\n",
       "</style>\n",
       "<table border=\"1\" class=\"dataframe\">\n",
       "  <thead>\n",
       "    <tr style=\"text-align: right;\">\n",
       "      <th></th>\n",
       "      <th>time</th>\n",
       "      <th>temperature_2m_max</th>\n",
       "      <th>temperature_2m_min</th>\n",
       "      <th>precipitation_sum</th>\n",
       "      <th>rain_sum</th>\n",
       "      <th>snowfall_sum</th>\n",
       "      <th>precipitation_hours</th>\n",
       "      <th>weather_code</th>\n",
       "      <th>wind_speed_10m_max</th>\n",
       "      <th>wind_gusts_10m_max</th>\n",
       "      <th>wind_direction_10m_dominant</th>\n",
       "    </tr>\n",
       "  </thead>\n",
       "  <tbody>\n",
       "    <tr>\n",
       "      <th>0</th>\n",
       "      <td>2012-07-01</td>\n",
       "      <td>34.8</td>\n",
       "      <td>20.1</td>\n",
       "      <td>1.7</td>\n",
       "      <td>1.7</td>\n",
       "      <td>0.0</td>\n",
       "      <td>1.0</td>\n",
       "      <td>61</td>\n",
       "      <td>17.0</td>\n",
       "      <td>37.1</td>\n",
       "      <td>268</td>\n",
       "    </tr>\n",
       "    <tr>\n",
       "      <th>1</th>\n",
       "      <td>2012-07-02</td>\n",
       "      <td>31.0</td>\n",
       "      <td>19.7</td>\n",
       "      <td>0.0</td>\n",
       "      <td>0.0</td>\n",
       "      <td>0.0</td>\n",
       "      <td>0.0</td>\n",
       "      <td>2</td>\n",
       "      <td>14.0</td>\n",
       "      <td>26.3</td>\n",
       "      <td>321</td>\n",
       "    </tr>\n",
       "    <tr>\n",
       "      <th>2</th>\n",
       "      <td>2012-07-03</td>\n",
       "      <td>31.9</td>\n",
       "      <td>18.6</td>\n",
       "      <td>0.0</td>\n",
       "      <td>0.0</td>\n",
       "      <td>0.0</td>\n",
       "      <td>0.0</td>\n",
       "      <td>3</td>\n",
       "      <td>12.1</td>\n",
       "      <td>25.6</td>\n",
       "      <td>269</td>\n",
       "    </tr>\n",
       "    <tr>\n",
       "      <th>3</th>\n",
       "      <td>2012-07-04</td>\n",
       "      <td>33.7</td>\n",
       "      <td>20.5</td>\n",
       "      <td>3.9</td>\n",
       "      <td>3.9</td>\n",
       "      <td>0.0</td>\n",
       "      <td>4.0</td>\n",
       "      <td>61</td>\n",
       "      <td>10.9</td>\n",
       "      <td>26.3</td>\n",
       "      <td>251</td>\n",
       "    </tr>\n",
       "    <tr>\n",
       "      <th>4</th>\n",
       "      <td>2012-07-05</td>\n",
       "      <td>34.9</td>\n",
       "      <td>24.3</td>\n",
       "      <td>0.0</td>\n",
       "      <td>0.0</td>\n",
       "      <td>0.0</td>\n",
       "      <td>0.0</td>\n",
       "      <td>3</td>\n",
       "      <td>14.4</td>\n",
       "      <td>24.1</td>\n",
       "      <td>321</td>\n",
       "    </tr>\n",
       "  </tbody>\n",
       "</table>\n",
       "</div>"
      ],
      "text/plain": [
       "         time  temperature_2m_max  temperature_2m_min  precipitation_sum  \\\n",
       "0  2012-07-01                34.8                20.1                1.7   \n",
       "1  2012-07-02                31.0                19.7                0.0   \n",
       "2  2012-07-03                31.9                18.6                0.0   \n",
       "3  2012-07-04                33.7                20.5                3.9   \n",
       "4  2012-07-05                34.9                24.3                0.0   \n",
       "\n",
       "   rain_sum  snowfall_sum  precipitation_hours  weather_code  \\\n",
       "0       1.7           0.0                  1.0            61   \n",
       "1       0.0           0.0                  0.0             2   \n",
       "2       0.0           0.0                  0.0             3   \n",
       "3       3.9           0.0                  4.0            61   \n",
       "4       0.0           0.0                  0.0             3   \n",
       "\n",
       "   wind_speed_10m_max  wind_gusts_10m_max  wind_direction_10m_dominant  \n",
       "0                17.0                37.1                          268  \n",
       "1                14.0                26.3                          321  \n",
       "2                12.1                25.6                          269  \n",
       "3                10.9                26.3                          251  \n",
       "4                14.4                24.1                          321  "
      ]
     },
     "execution_count": 10,
     "metadata": {},
     "output_type": "execute_result"
    }
   ],
   "source": [
    "nyc_weather_df.head()"
   ]
  },
  {
   "cell_type": "markdown",
   "id": "9b9c28ed",
   "metadata": {},
   "source": [
    "### Quality Issue 1: Mixed Data Types In Motor Accident DataFrame "
   ]
  },
  {
   "cell_type": "markdown",
   "id": "df2d5593",
   "metadata": {},
   "source": [
    "The first quality issue that I noticed is that there are some mislabled data types that are in the motor_accident_df. The CRASH DATE and CRASH TYPE are of type object when they should have been assigned as type datetime. Another issue is that both NUMBER OF PERSONS INJURED and NUMBER OF PERSONS KILLED are both assigned as type float when they should have been assigned as type int since it is impossible in injur or kill half of a person for example. "
   ]
  },
  {
   "cell_type": "code",
   "execution_count": 7,
   "id": "03400117",
   "metadata": {},
   "outputs": [],
   "source": [
    "# Inspecting Motor Accidents DataFrame Programmatically\n",
    "# Function that sees if there are multiple types in a specific column\n",
    "def check_mixed_types(series):\n",
    "\n",
    "    # Filter out all the nulls to type check what is stored\n",
    "    non_nan_values = series.dropna()\n",
    "\n",
    "    # Gets the type of each non_NaN value\n",
    "    unique_types = set(non_nan_values.apply(type))\n",
    "\n",
    "    return len(unique_types) > 1, unique_types"
   ]
  },
  {
   "cell_type": "code",
   "execution_count": 8,
   "id": "9d618925",
   "metadata": {},
   "outputs": [
    {
     "name": "stdout",
     "output_type": "stream",
     "text": [
      "Column 'CRASH DATE': Does Not Have Mixed Data Types. Type Found: {<class 'str'>}\n",
      "Column 'NUMBER OF PERSONS INJURED': Does Not Have Mixed Data Types. Type Found: {<class 'int'>}\n",
      "Column 'NUMBER OF PERSONS KILLED': Does Not Have Mixed Data Types. Type Found: {<class 'int'>}\n"
     ]
    }
   ],
   "source": [
    "# List of columns to check data types on\n",
    "column_names = ['CRASH DATE', 'NUMBER OF PERSONS INJURED', 'NUMBER OF PERSONS KILLED']\n",
    "\n",
    "#Loop created to run the function on all columns in the above list\n",
    "for i in column_names:\n",
    "\n",
    "    # Runs the function using the columns specified in column_names\n",
    "    is_mixed, types_found = check_mixed_types(motor_accident_df[i])\n",
    "\n",
    "    # Prints if the column contains mixed type or not\n",
    "    if is_mixed:\n",
    "        print(f\"Column '{i}': Has Mixed Data Types. Types Found: {types_found}\")\n",
    "    else:\n",
    "        print(f\"Column '{i}': Does Not Have Mixed Data Types. Type Found: {types_found}\")"
   ]
  },
  {
   "cell_type": "markdown",
   "id": "49415d60",
   "metadata": {},
   "source": [
    "> Based on the function that was run above, we are able to see that the columns that are going to be used for analysis do not have the issue of having multiple types assigned to the row. This shows that all the datatypes in each column are consistent. Knowing this, I can now safely address the fact that they are stored as the wrong type during the cleaning of my datasets.\n"
   ]
  },
  {
   "cell_type": "markdown",
   "id": "f58d6616",
   "metadata": {},
   "source": [
    "### Quality Issue 2: Missing Values in Motor Accident DataFrame"
   ]
  },
  {
   "cell_type": "markdown",
   "id": "9d4fe37d",
   "metadata": {},
   "source": [
    "The next quality issue that needs to be addressed is the problem of NaN values in various columns in the Motor Accident DataFrame. Many of these columns will not be needed for analysis, so I will first be addressing what columns are going to be needed, inspect the amount of null values in said columns, and decide if there is enough filled in information to be able to gain insights using the column. If the column will not be used for analysis, it will be dropped when performing cleaning"
   ]
  },
  {
   "cell_type": "markdown",
   "id": "4f0aaf92",
   "metadata": {},
   "source": [
    "> The first thing I will do is create a heatmap of the null values in the dataset. This will provide me with a visual of what data is filled in in the dataset."
   ]
  },
  {
   "cell_type": "code",
   "execution_count": 12,
   "id": "7f7e3aaa",
   "metadata": {},
   "outputs": [
    {
     "data": {
      "image/png": "[encoded data removed]",
      "text/plain": [
       "<Figure size 1500x800 with 1 Axes>"
      ]
     },
     "metadata": {},
     "output_type": "display_data"
    }
   ],
   "source": [
    "# Visualizing null values in dataset\n",
    "# Creating a boolean dataframe that indicates missing values\n",
    "missing_df = motor_accident_df.isnull()\n",
    "\n",
    "# Creates a heatmap using the missing_df created\n",
    "plt.figure(figsize=(15, 8))\n",
    "sns.heatmap(missing_df, cbar=False, cmap=\"viridis\") # 'viridis' shows missing in different color\n",
    "plt.title(\"Heatmap of Missing Values in Motor Accident Dataset\")\n",
    "plt.xlabel(\"Columns\")\n",
    "plt.ylabel(\"Rows\")\n",
    "plt.show()"
   ]
  },
  {
   "cell_type": "markdown",
   "id": "d8be238e",
   "metadata": {},
   "source": [
    "Looking at the heatmap created above, we are able to determine that there are some unusable rows due to the sheer amount of missing values in their fields. Luckily, the columns that I plan on using for analysis seem to have enough information filled in to be utilized for creating visuals and performing analysis. Seeing that none of the columns with missing values that deal with locations can be imputed, it would be wise to drop any entries that have null values in those entries if they are going to be required for analysis, such as latitude and longitude of the accident."
   ]
  },
  {
   "cell_type": "code",
   "execution_count": 14,
   "id": "091805c0",
   "metadata": {},
   "outputs": [
    {
     "data": {
      "text/plain": [
       "CRASH DATE                           0\n",
       "CRASH TIME                           0\n",
       "BOROUGH                          34389\n",
       "ZIP CODE                         34400\n",
       "LATITUDE                          7939\n",
       "LONGITUDE                         7939\n",
       "LOCATION                          7939\n",
       "ON STREET NAME                   27124\n",
       "CROSS STREET NAME                53639\n",
       "OFF STREET NAME                  72877\n",
       "NUMBER OF PERSONS INJURED            0\n",
       "NUMBER OF PERSONS KILLED             0\n",
       "NUMBER OF PEDESTRIANS INJURED        0\n",
       "NUMBER OF PEDESTRIANS KILLED         0\n",
       "NUMBER OF CYCLIST INJURED            0\n",
       "NUMBER OF CYCLIST KILLED             0\n",
       "NUMBER OF MOTORIST INJURED           0\n",
       "NUMBER OF MOTORIST KILLED            0\n",
       "CONTRIBUTING FACTOR VEHICLE 1      503\n",
       "CONTRIBUTING FACTOR VEHICLE 2    22599\n",
       "CONTRIBUTING FACTOR VEHICLE 3    89698\n",
       "CONTRIBUTING FACTOR VEHICLE 4    97220\n",
       "CONTRIBUTING FACTOR VEHICLE 5    99153\n",
       "COLLISION_ID                         0\n",
       "VEHICLE TYPE CODE 1               1195\n",
       "VEHICLE TYPE CODE 2              33280\n",
       "VEHICLE TYPE CODE 3              90453\n",
       "VEHICLE TYPE CODE 4              97377\n",
       "VEHICLE TYPE CODE 5              99184\n",
       "dtype: int64"
      ]
     },
     "execution_count": 14,
     "metadata": {},
     "output_type": "execute_result"
    }
   ],
   "source": [
    "motor_accident_df.isnull().sum()"
   ]
  },
  {
   "cell_type": "markdown",
   "id": "b75540c2",
   "metadata": {},
   "source": [
    "### Tidiness Issue 1: Crash Date and Time Separation"
   ]
  },
  {
   "cell_type": "markdown",
   "id": "cd912405",
   "metadata": {},
   "source": [
    "The first tidiness issue that I noticed that will need to be addressed is the fact that the CRASH DATE and CRASH TIME columns have been separated into two seperate object columns rather than being stored into a single datatime type. This will be addressed, as there are many usefule datetime functions that can be utilized"
   ]
  },
  {
   "cell_type": "code",
   "execution_count": 17,
   "id": "eca71063",
   "metadata": {},
   "outputs": [
    {
     "data": {
      "text/html": [
       "<div>\n",
       "<style scoped>\n",
       "    .dataframe tbody tr th:only-of-type {\n",
       "        vertical-align: middle;\n",
       "    }\n",
       "\n",
       "    .dataframe tbody tr th {\n",
       "        vertical-align: top;\n",
       "    }\n",
       "\n",
       "    .dataframe thead th {\n",
       "        text-align: right;\n",
       "    }\n",
       "</style>\n",
       "<table border=\"1\" class=\"dataframe\">\n",
       "  <thead>\n",
       "    <tr style=\"text-align: right;\">\n",
       "      <th></th>\n",
       "      <th>CRASH DATE</th>\n",
       "      <th>CRASH TIME</th>\n",
       "    </tr>\n",
       "  </thead>\n",
       "  <tbody>\n",
       "    <tr>\n",
       "      <th>0</th>\n",
       "      <td>09/11/2021</td>\n",
       "      <td>2:39</td>\n",
       "    </tr>\n",
       "    <tr>\n",
       "      <th>1</th>\n",
       "      <td>03/26/2022</td>\n",
       "      <td>11:45</td>\n",
       "    </tr>\n",
       "    <tr>\n",
       "      <th>2</th>\n",
       "      <td>11/01/2023</td>\n",
       "      <td>1:29</td>\n",
       "    </tr>\n",
       "    <tr>\n",
       "      <th>3</th>\n",
       "      <td>06/29/2022</td>\n",
       "      <td>6:55</td>\n",
       "    </tr>\n",
       "    <tr>\n",
       "      <th>4</th>\n",
       "      <td>09/21/2022</td>\n",
       "      <td>13:21</td>\n",
       "    </tr>\n",
       "  </tbody>\n",
       "</table>\n",
       "</div>"
      ],
      "text/plain": [
       "   CRASH DATE CRASH TIME\n",
       "0  09/11/2021       2:39\n",
       "1  03/26/2022      11:45\n",
       "2  11/01/2023       1:29\n",
       "3  06/29/2022       6:55\n",
       "4  09/21/2022      13:21"
      ]
     },
     "execution_count": 17,
     "metadata": {},
     "output_type": "execute_result"
    }
   ],
   "source": [
    "# Visually showing the CRASH DATE and CRASH TIME are seperate columns rather than one\n",
    "motor_accident_df[['CRASH DATE', 'CRASH TIME']].head()"
   ]
  },
  {
   "cell_type": "markdown",
   "id": "1dbd3000",
   "metadata": {},
   "source": [
    "### Tidiness Issue 2: Unneeded LOCATION Column"
   ]
  },
  {
   "cell_type": "markdown",
   "id": "8ec173d8",
   "metadata": {},
   "source": [
    "The next tidiness issue that will be addressed is that fact that there is a column for latitude, longitude, and location. The location column is just the latitude and longitude values stored together in an object, sot it will not be as usable as the latitude and longitude columns which are stored as float types"
   ]
  },
  {
   "cell_type": "code",
   "execution_count": 18,
   "id": "981258aa",
   "metadata": {},
   "outputs": [
    {
     "name": "stdout",
     "output_type": "stream",
     "text": [
      "        LATITUDE  LONGITUDE                 LOCATION\n",
      "60050  40.666565 -73.988495  (40.666565, -73.988495)\n",
      "15773  40.725430 -73.996780    (40.72543, -73.99678)\n",
      "81882  40.593190 -74.082405   (40.59319, -74.082405)\n",
      "7170   40.817380 -73.925700     (40.81738, -73.9257)\n",
      "17561  40.841133 -73.924000     (40.841133, -73.924)\n"
     ]
    }
   ],
   "source": [
    "# Inspecting the dataframe visually\n",
    "print(motor_accident_df[['LATITUDE', 'LONGITUDE', 'LOCATION']].sample(5))"
   ]
  },
  {
   "cell_type": "code",
   "execution_count": 19,
   "id": "d876d143",
   "metadata": {},
   "outputs": [
    {
     "name": "stdout",
     "output_type": "stream",
     "text": [
      "object\n"
     ]
    }
   ],
   "source": [
    "print(motor_accident_df['LOCATION'].dtype)"
   ]
  },
  {
   "cell_type": "markdown",
   "id": "8a21fb5e",
   "metadata": {},
   "source": [
    "> As shown above, we can see that the LOCATION column of the dataset is just the LATITUDE and LONGITUDE columsn brought together and stored as an object"
   ]
  },
  {
   "cell_type": "markdown",
   "id": "154aeb87",
   "metadata": {},
   "source": []
  }
 ],
 "metadata": {
  "kernelspec": {
   "display_name": "base",
   "language": "python",
   "name": "python3"
  },
  "language_info": {
   "codemirror_mode": {
    "name": "ipython",
    "version": 3
   },
   "file_extension": ".py",
   "mimetype": "text/x-python",
   "name": "python",
   "nbconvert_exporter": "python",
   "pygments_lexer": "ipython3",
   "version": "3.12.7"
  }
 },
 "nbformat": 4,
 "nbformat_minor": 5
}
